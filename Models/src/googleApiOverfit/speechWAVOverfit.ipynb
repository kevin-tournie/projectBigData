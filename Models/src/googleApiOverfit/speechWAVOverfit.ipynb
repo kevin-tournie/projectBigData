{
 "cells": [
  {
   "cell_type": "code",
   "execution_count": 1,
   "metadata": {},
   "outputs": [
    {
     "data": {
      "text/plain": [
       "'Unrecognised'"
      ]
     },
     "execution_count": 1,
     "metadata": {},
     "output_type": "execute_result"
    }
   ],
   "source": [
    "from googleApiOverfit import googleApiOverfit\n",
    "\n",
    "# WAVFilePath = \"./en_train_full_subset/target_directory/common_voice_en_21892403.wav\"\n",
    "# WAVFilePath = \"./en_train_full_subset/target_directory/common_voice_en_21892412.wav\" #yes\n",
    "# WAVFilePath = \"./en_test_full_subset/target_directory/common_voice_en_22150157.wav\" #\"four\", \"or her\" Mais y a pas de four :/\n",
    "\n",
    "WAVFilePath = \"../data/common_voice/common_voice_en_22150157.wav\" #\"three\", \"tree\" (predicted)\n",
    "\n",
    "googleApiOverfit(WAVFilePath)\n",
    "# speechFileWAVToTextFunction(WAVFilePath)\n"
   ]
  },
  {
   "cell_type": "code",
   "execution_count": null,
   "metadata": {},
   "outputs": [],
   "source": []
  }
 ],
 "metadata": {
  "kernelspec": {
   "display_name": "Python 3.9.16 ('pytorch')",
   "language": "python",
   "name": "python3"
  },
  "language_info": {
   "codemirror_mode": {
    "name": "ipython",
    "version": 3
   },
   "file_extension": ".py",
   "mimetype": "text/x-python",
   "name": "python",
   "nbconvert_exporter": "python",
   "pygments_lexer": "ipython3",
   "version": "3.9.16"
  },
  "orig_nbformat": 4,
  "vscode": {
   "interpreter": {
    "hash": "b3d36c977726154972f35570aa82598c65dbe8518a2f86d2ec7a1bb7fc77cba3"
   }
  }
 },
 "nbformat": 4,
 "nbformat_minor": 2
}
