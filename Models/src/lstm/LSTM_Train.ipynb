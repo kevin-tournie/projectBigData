{
 "cells": [
  {
   "cell_type": "markdown",
   "metadata": {},
   "source": [
    "# Training of the LSTM NN"
   ]
  },
  {
   "cell_type": "markdown",
   "metadata": {},
   "source": [
    "### Variables and functions definition"
   ]
  },
  {
   "cell_type": "code",
   "execution_count": 1,
   "metadata": {},
   "outputs": [],
   "source": [
    "classes = [\"yes\", \"no\", \"one\", \"two\", \"three\", \"four\"] \n",
    "learning_rate = 7*1e-4 \n",
    "epoch = 100 \n",
    "batch_size = 64\n",
    "validation_split = 0.1\n",
    "dropout = 0.15\n",
    "recurrent_dropout = 0.15\n",
    "n_mel = 20 \n",
    "n_mfcc = 5  \n",
    "\n",
    "\n",
    "param_grid = {\"model__learning_rate\": [2*1e-4,5*1e-4,7*1e-4,1e-3],\n",
    "                \"model__dropout\": [0.15, 0.35, 0.5],\n",
    "                \"model__recurrent_dropout\": [0.15, 0.35, 0.5]}\n"
   ]
  },
  {
   "cell_type": "code",
   "execution_count": 2,
   "metadata": {},
   "outputs": [],
   "source": [
    "import os\n",
    "import pandas as pd\n",
    "from pickle import load\n",
    "import numpy as np\n",
    "\n",
    "def load_and_padding(path, n_mfcc):\n",
    "    \"\"\"\n",
    "    Loads the data from the pickle file and pad the signals to the same length.\n",
    "    \n",
    "    Parameters\n",
    "    ----------\n",
    "        path: path to the pickle file\n",
    "        n_mfcc: number of mfcc features\n",
    "    Returns\n",
    "    -------\n",
    "        x: padded mfcc features\n",
    "        y: labels\n",
    "        max_length: the length of the longest signal\n",
    "        X_mask: a mask array to store the length of each padded signal\n",
    "    \"\"\"\n",
    "    with open(path, \"rb\") as f:\n",
    "        X = load(f)\n",
    "        y = load(f)\n",
    "\n",
    "    max_length = max([len(X[i][0]) for i in range(len(X))])\n",
    "    x = np.empty((len(X), n_mfcc, max_length))\n",
    "    for i in range(len(X)):\n",
    "        for j in range(len(X[i])):\n",
    "            x[i][j] = np.pad(X[i][j], (0, max_length - len(X[i][j])))\n",
    "    x = np.array(x).reshape((-1, n_mfcc, max_length))\n",
    "    \n",
    "    # Create a mask array to store the length of each padded signal\n",
    "    X_mask = np.zeros((x.shape[0], max_length), dtype=bool)\n",
    "    for i in range(x.shape[0]):\n",
    "        length = len(X[i][0])\n",
    "        X_mask[i, :length] = True\n",
    "    \n",
    "    return x, y, max_length, X_mask\n"
   ]
  },
  {
   "cell_type": "code",
   "execution_count": 1,
   "metadata": {},
   "outputs": [],
   "source": [
    "from keras.utils import to_categorical\n",
    "from sklearn.model_selection import train_test_split\n",
    "def create_train_test(file_path,n_mels,n_mfcc,classes,test_size=0.1,random_state=42): \n",
    "    '''\n",
    "    Creates train and test sets from the data in the file_path\n",
    "\n",
    "    Parameters\n",
    "    ----------\n",
    "        file_path: path to the pickle file\n",
    "        n_mels: number of mel features\n",
    "        n_mfcc: number of mfcc features\n",
    "        classes: list of classes\n",
    "        test_size: size of the test set\n",
    "        random_state: random state for the train_test_split function\n",
    "    Returns\n",
    "    -------\n",
    "        X_train: train set\n",
    "        X_test: test set\n",
    "        y_train: train labels\n",
    "        y_test: test labels\n",
    "        max_length: the length of the longest signal\n",
    "        num_classes: number of classes\n",
    "        classes: list of classes\n",
    "    '''  \n",
    "    X, y, max_length, X_mask = load_and_padding(file_path, n_mfcc=n_mfcc)\n",
    "    X_train, X_test, y_train, y_test = train_test_split(X, y,  test_size=test_size, random_state=random_state)\n",
    "    num_classes = len(classes)\n",
    "    y_train = [classes.index(x) for x in y_train]\n",
    "    y_train = to_categorical(y_train, num_classes)\n",
    "    y_test = [classes.index(x) for x in y_test]\n",
    "    y_test = to_categorical(y_test, num_classes)\n",
    "    return X_train, X_test, y_train, y_test, max_length, num_classes, classes"
   ]
  },
  {
   "cell_type": "code",
   "execution_count": 4,
   "metadata": {},
   "outputs": [],
   "source": [
    "from keras.layers import Masking, LSTM, Dense\n",
    "from keras.models import Sequential\n",
    "from keras.optimizers import Adam\n",
    "\n",
    "def create_model(learning_rate, dropout, recurrent_dropout,n_mfcc,max_length,num_classes,n_units=128):\n",
    "        '''\n",
    "        Creates the model. The model is a LSTM with 128 units and a softmax layer with num_classes units\n",
    "\n",
    "        Parameters\n",
    "        ----------\n",
    "                learning_rate: learning rate for the Adam optimizer\n",
    "                dropout: dropout rate for the LSTM layer\n",
    "                recurrent_dropout: recurrent dropout rate for the LSTM layer\n",
    "                n_mfcc: number of mfcc features\n",
    "                max_length: the length of the longest signal\n",
    "                num_classes: number of classes\n",
    "                n_units: number of units in the LSTM layer, default\n",
    "\n",
    "        Returns\n",
    "        -------\n",
    "                model: the model\n",
    "        '''\n",
    "        model = Sequential()\n",
    "        model.add(Masking(mask_value=False, input_shape=(n_mfcc, max_length)))\n",
    "        model.add(LSTM(n_units, dropout=dropout, recurrent_dropout=recurrent_dropout))\n",
    "        model.add(Dense(num_classes, activation='softmax'))\n",
    "        model.compile(loss='categorical_crossentropy',\n",
    "                optimizer=Adam(learning_rate), metrics=['accuracy'])\n",
    "        return model"
   ]
  },
  {
   "cell_type": "code",
   "execution_count": 2,
   "metadata": {},
   "outputs": [],
   "source": [
    "import audiofile\n",
    "import scipy.signal as sps\n",
    "import librosa\n",
    "\n",
    "def load_from_wav(filePath):\n",
    "    '''\n",
    "    Loads the audio from the wav file. The audio is converted to mono and resampled to 20050 Hz\n",
    "\n",
    "    Parameters\n",
    "    ----------\n",
    "        filePath: path to the wav file\n",
    "\n",
    "    Returns\n",
    "    -------\n",
    "        arr: numpy array with the audio\n",
    "        sr: sample rate\n",
    "    '''\n",
    "    audio, sr = librosa.load(filePath)\n",
    "    arr = np.array(audio, dtype=float)\n",
    "    return arr, sr\n",
    "\n",
    "\n",
    "def process_audio(file_path, max_length, n_mels=20, n_mfcc=5):\n",
    "    '''\n",
    "    Processes the audio from the wav file. The audio is transformed to a mel spectrogram and then to mfcc\n",
    "\n",
    "    Parameters\n",
    "    ----------\n",
    "        file_path: path to the wav file\n",
    "        max_length: the length of the longest signal\n",
    "        n_mels: number of mel features\n",
    "        n_mfcc: number of mfcc features\n",
    "\n",
    "    Returns\n",
    "    -------\n",
    "        x: numpy array with the processed audio\n",
    "    '''\n",
    "    y, sr = load_from_wav(file_path)\n",
    "    S = librosa.power_to_db(\n",
    "        librosa.feature.melspectrogram(y=y, sr=sr, n_mels=n_mels))\n",
    "    mfcc = librosa.feature.mfcc(S=S, n_mfcc=n_mfcc)\n",
    "    x = np.empty((1, n_mfcc, max_length))\n",
    "    for i in range(len(mfcc)):\n",
    "        x[0][i] = np.pad(mfcc[i], (0, max_length - len(mfcc[i])))\n",
    "    return x\n",
    "\n",
    "\n",
    "def predict(filePath, classes, model, max_length, n_mels=20, n_mfcc=5):\n",
    "    '''\n",
    "    Predicts the class of the audio in the file_path\n",
    "\n",
    "    Parameters\n",
    "    ----------\n",
    "        filePath: path to the wav file\n",
    "        classes: list of classes\n",
    "        model: the model\n",
    "        max_length: the length of the longest signal\n",
    "        n_mels: number of mel features\n",
    "        n_mfcc: number of mfcc features\n",
    "\n",
    "    Returns\n",
    "    -------\n",
    "        prediction: the predicted class\n",
    "    '''\n",
    "    res = process_audio(filePath, max_length=max_length, n_mels=n_mels, n_mfcc=n_mfcc)\n",
    "    pred = model.predict(res)\n",
    "    prediction = classes[np.argmax(pred)]\n",
    "    return prediction"
   ]
  },
  {
   "cell_type": "code",
   "execution_count": 7,
   "metadata": {},
   "outputs": [],
   "source": [
    "from sklearn.experimental import enable_halving_search_cv\n",
    "from sklearn.model_selection import HalvingGridSearchCV\n",
    "from scikeras.wrappers import KerasClassifier\n",
    "from keras.callbacks import EarlyStopping\n",
    "\n",
    "\n",
    "callback = EarlyStopping(monitor='val_accuracy', patience=12, restore_best_weights=True,verbose=1)\n",
    "\n",
    "def create_halving_gridsearch(param_grid,model_function=create_model, cv=2, factor=2, n_jobs=-1, verbose=1, validation_split=0.1, epoch=100, batch_size=124, callback=None, min_resources=700, max_resources=1000):\n",
    "    '''\n",
    "    Creates the grid search for the hyperparameter tuning\n",
    "\n",
    "    Parameters\n",
    "    ----------\n",
    "        model: the model\n",
    "        param_grid: the parameters to be tuned\n",
    "        cv: number of folds for the cross validation\n",
    "        factor: factor for the halving grid search\n",
    "        n_jobs: number of jobs to run in parallel\n",
    "        verbose: verbosity mode\n",
    "        validation_split: validation split for the training\n",
    "        epoch: number of epochs for the training\n",
    "        batch_size: batch size for the training\n",
    "        callback: callback for the training\n",
    "        min_resources: minimum number of resources for the training\n",
    "        max_resources: maximum number of resources for the training\n",
    "\n",
    "    Returns\n",
    "    -------\n",
    "        grid: the grid search \n",
    "    '''\n",
    "    model = KerasClassifier(model=model_function, epochs=epoch, batch_size=batch_size, validation_split=validation_split,callbacks=[callback],loss='categorical_crossentropy',verbose=1)\n",
    "    # Creating the grid search\n",
    "    grid = HalvingGridSearchCV(estimator=model, param_grid=param_grid,cv=cv, n_jobs=n_jobs, verbose=verbose, factor=factor, min_resources=min_resources, max_resources=max_resources, scoring='accuracy', random_state=42)\n",
    "    return grid"
   ]
  },
  {
   "cell_type": "markdown",
   "metadata": {},
   "source": [
    "# Fine-tuning the hyperparameters"
   ]
  },
  {
   "cell_type": "markdown",
   "metadata": {},
   "source": [
    "## Testing with different n_mels and m_fcc"
   ]
  },
  {
   "cell_type": "code",
   "execution_count": null,
   "metadata": {},
   "outputs": [
    {
     "name": "stdout",
     "output_type": "stream",
     "text": [
      "starting : 10mels_3mfcc.pkl\n",
      "Epoch 1/40\n",
      "30/30 [==============================] - 8s 74ms/step - loss: 1.8239 - accuracy: 0.1964 - val_loss: 1.7477 - val_accuracy: 0.2422\n",
      "Epoch 2/40\n",
      "30/30 [==============================] - 1s 45ms/step - loss: 1.6775 - accuracy: 0.3070 - val_loss: 1.6666 - val_accuracy: 0.3189\n",
      "Epoch 3/40\n",
      "30/30 [==============================] - 1s 45ms/step - loss: 1.5889 - accuracy: 0.3805 - val_loss: 1.5928 - val_accuracy: 0.3309\n",
      "Epoch 4/40\n",
      "30/30 [==============================] - 2s 53ms/step - loss: 1.5059 - accuracy: 0.4274 - val_loss: 1.5710 - val_accuracy: 0.3717\n",
      "Epoch 5/40\n",
      "30/30 [==============================] - 1s 45ms/step - loss: 1.4400 - accuracy: 0.4652 - val_loss: 1.5439 - val_accuracy: 0.3693\n",
      "Epoch 6/40\n",
      "30/30 [==============================] - 1s 46ms/step - loss: 1.3944 - accuracy: 0.4908 - val_loss: 1.5131 - val_accuracy: 0.3909\n",
      "Epoch 7/40\n",
      "30/30 [==============================] - 1s 45ms/step - loss: 1.3419 - accuracy: 0.5063 - val_loss: 1.4639 - val_accuracy: 0.3909\n",
      "Epoch 8/40\n",
      "30/30 [==============================] - 1s 48ms/step - loss: 1.3051 - accuracy: 0.5236 - val_loss: 1.4611 - val_accuracy: 0.3933\n",
      "Epoch 9/40\n",
      "30/30 [==============================] - 1s 43ms/step - loss: 1.2524 - accuracy: 0.5569 - val_loss: 1.4560 - val_accuracy: 0.4149\n",
      "Epoch 10/40\n",
      "30/30 [==============================] - 2s 52ms/step - loss: 1.2063 - accuracy: 0.5702 - val_loss: 1.4579 - val_accuracy: 0.4101\n",
      "Epoch 11/40\n",
      "30/30 [==============================] - 1s 44ms/step - loss: 1.1638 - accuracy: 0.5889 - val_loss: 1.4457 - val_accuracy: 0.3813\n",
      "Epoch 12/40\n",
      "30/30 [==============================] - 1s 45ms/step - loss: 1.1319 - accuracy: 0.5974 - val_loss: 1.4463 - val_accuracy: 0.4269\n",
      "Epoch 13/40\n",
      "30/30 [==============================] - 1s 44ms/step - loss: 1.0931 - accuracy: 0.6190 - val_loss: 1.4081 - val_accuracy: 0.4269\n",
      "Epoch 14/40\n",
      "30/30 [==============================] - 1s 48ms/step - loss: 1.0619 - accuracy: 0.6347 - val_loss: 1.4043 - val_accuracy: 0.4149\n",
      "Epoch 15/40\n",
      "30/30 [==============================] - 1s 44ms/step - loss: 1.0243 - accuracy: 0.6552 - val_loss: 1.4060 - val_accuracy: 0.4293\n",
      "Epoch 16/40\n",
      "30/30 [==============================] - 1s 45ms/step - loss: 1.0021 - accuracy: 0.6637 - val_loss: 1.4191 - val_accuracy: 0.4197\n",
      "Epoch 17/40\n",
      "30/30 [==============================] - 1s 48ms/step - loss: 0.9724 - accuracy: 0.6755 - val_loss: 1.4050 - val_accuracy: 0.4484\n",
      "Epoch 18/40\n",
      "30/30 [==============================] - 2s 54ms/step - loss: 0.9532 - accuracy: 0.6760 - val_loss: 1.3573 - val_accuracy: 0.4628\n",
      "Epoch 19/40\n",
      "30/30 [==============================] - 1s 49ms/step - loss: 0.9170 - accuracy: 0.7000 - val_loss: 1.3456 - val_accuracy: 0.4988\n",
      "Epoch 20/40\n",
      "30/30 [==============================] - 1s 45ms/step - loss: 0.8845 - accuracy: 0.7136 - val_loss: 1.3475 - val_accuracy: 0.4508\n",
      "Epoch 21/40\n",
      "30/30 [==============================] - 1s 43ms/step - loss: 0.8605 - accuracy: 0.7200 - val_loss: 1.3613 - val_accuracy: 0.4748\n",
      "Epoch 22/40\n",
      "30/30 [==============================] - 1s 43ms/step - loss: 0.8337 - accuracy: 0.7261 - val_loss: 1.3512 - val_accuracy: 0.4676\n",
      "Epoch 23/40\n",
      "30/30 [==============================] - 2s 51ms/step - loss: 0.8138 - accuracy: 0.7426 - val_loss: 1.3826 - val_accuracy: 0.4652\n",
      "Epoch 24/40\n",
      "30/30 [==============================] - 1s 44ms/step - loss: 0.7861 - accuracy: 0.7482 - val_loss: 1.3739 - val_accuracy: 0.4772\n",
      "Epoch 25/40\n",
      "30/30 [==============================] - 1s 45ms/step - loss: 0.7589 - accuracy: 0.7607 - val_loss: 1.3708 - val_accuracy: 0.5036\n",
      "Epoch 26/40\n",
      "30/30 [==============================] - 1s 47ms/step - loss: 0.7508 - accuracy: 0.7674 - val_loss: 1.3475 - val_accuracy: 0.4748\n",
      "Epoch 27/40\n",
      "30/30 [==============================] - 1s 46ms/step - loss: 0.7331 - accuracy: 0.7666 - val_loss: 1.3287 - val_accuracy: 0.4748\n",
      "Epoch 28/40\n",
      "30/30 [==============================] - 1s 45ms/step - loss: 0.7098 - accuracy: 0.7791 - val_loss: 1.3124 - val_accuracy: 0.4844\n",
      "Epoch 29/40\n",
      "30/30 [==============================] - 2s 52ms/step - loss: 0.6891 - accuracy: 0.7866 - val_loss: 1.3320 - val_accuracy: 0.4868\n",
      "Epoch 30/40\n",
      "30/30 [==============================] - 1s 43ms/step - loss: 0.6678 - accuracy: 0.7940 - val_loss: 1.3245 - val_accuracy: 0.5060\n",
      "Epoch 31/40\n",
      "30/30 [==============================] - 1s 42ms/step - loss: 0.6462 - accuracy: 0.8098 - val_loss: 1.3325 - val_accuracy: 0.4652\n",
      "Epoch 32/40\n",
      "30/30 [==============================] - 1s 50ms/step - loss: 0.6428 - accuracy: 0.8044 - val_loss: 1.3397 - val_accuracy: 0.4988\n",
      "Epoch 33/40\n",
      "30/30 [==============================] - 1s 42ms/step - loss: 0.6244 - accuracy: 0.8132 - val_loss: 1.3236 - val_accuracy: 0.5108\n",
      "Epoch 34/40\n",
      "30/30 [==============================] - 1s 46ms/step - loss: 0.5971 - accuracy: 0.8212 - val_loss: 1.3459 - val_accuracy: 0.4940\n",
      "Epoch 35/40\n",
      "30/30 [==============================] - 1s 43ms/step - loss: 0.5834 - accuracy: 0.8319 - val_loss: 1.3473 - val_accuracy: 0.5060\n",
      "Epoch 36/40\n",
      "30/30 [==============================] - 1s 48ms/step - loss: 0.5706 - accuracy: 0.8332 - val_loss: 1.3305 - val_accuracy: 0.5012\n",
      "Epoch 37/40\n",
      "30/30 [==============================] - 1s 44ms/step - loss: 0.5559 - accuracy: 0.8284 - val_loss: 1.3660 - val_accuracy: 0.4892\n",
      "Epoch 38/40\n",
      "30/30 [==============================] - 1s 44ms/step - loss: 0.5472 - accuracy: 0.8388 - val_loss: 1.3677 - val_accuracy: 0.4796\n",
      "Epoch 39/40\n",
      "30/30 [==============================] - 1s 44ms/step - loss: 0.5318 - accuracy: 0.8489 - val_loss: 1.3603 - val_accuracy: 0.4940\n",
      "Epoch 40/40\n",
      "30/30 [==============================] - 1s 50ms/step - loss: 0.5144 - accuracy: 0.8524 - val_loss: 1.3789 - val_accuracy: 0.4988\n",
      "finished : 10mels_3mfcc.pkl\n",
      "305/305 [==============================] - 2s 8ms/step - loss: 1.3410 - accuracy: 0.5015\n",
      "Test accuracy of model with 0.15 recurrent_dropout: 0.5015\n",
      "starting : 10mels_4mfcc.pkl\n",
      "Epoch 1/40\n",
      "30/30 [==============================] - 7s 77ms/step - loss: 1.7657 - accuracy: 0.2430 - val_loss: 1.5948 - val_accuracy: 0.3717\n",
      "Epoch 2/40\n",
      "30/30 [==============================] - 1s 48ms/step - loss: 1.5771 - accuracy: 0.3714 - val_loss: 1.5058 - val_accuracy: 0.4029\n",
      "Epoch 3/40\n",
      "30/30 [==============================] - 2s 52ms/step - loss: 1.4637 - accuracy: 0.4428 - val_loss: 1.4388 - val_accuracy: 0.4341\n",
      "Epoch 4/40\n",
      "30/30 [==============================] - 2s 50ms/step - loss: 1.3707 - accuracy: 0.4961 - val_loss: 1.3757 - val_accuracy: 0.4676\n",
      "Epoch 5/40\n",
      "30/30 [==============================] - 2s 65ms/step - loss: 1.2931 - accuracy: 0.5430 - val_loss: 1.3101 - val_accuracy: 0.5012\n",
      "Epoch 6/40\n",
      "30/30 [==============================] - 2s 60ms/step - loss: 1.2267 - accuracy: 0.5702 - val_loss: 1.2852 - val_accuracy: 0.5084\n",
      "Epoch 7/40\n",
      "30/30 [==============================] - 2s 55ms/step - loss: 1.1610 - accuracy: 0.6006 - val_loss: 1.2472 - val_accuracy: 0.5252\n",
      "Epoch 8/40\n",
      "30/30 [==============================] - 2s 50ms/step - loss: 1.1085 - accuracy: 0.6238 - val_loss: 1.2246 - val_accuracy: 0.5396\n",
      "Epoch 9/40\n",
      "30/30 [==============================] - 2s 50ms/step - loss: 1.0480 - accuracy: 0.6533 - val_loss: 1.1742 - val_accuracy: 0.5492\n",
      "Epoch 10/40\n",
      "30/30 [==============================] - 2s 53ms/step - loss: 1.0001 - accuracy: 0.6656 - val_loss: 1.1548 - val_accuracy: 0.5492\n",
      "Epoch 11/40\n",
      "30/30 [==============================] - 2s 61ms/step - loss: 0.9659 - accuracy: 0.6747 - val_loss: 1.1316 - val_accuracy: 0.5635\n",
      "Epoch 12/40\n",
      "30/30 [==============================] - 1s 49ms/step - loss: 0.9108 - accuracy: 0.6984 - val_loss: 1.1301 - val_accuracy: 0.5540\n",
      "Epoch 13/40\n",
      "30/30 [==============================] - 1s 50ms/step - loss: 0.8687 - accuracy: 0.7272 - val_loss: 1.1226 - val_accuracy: 0.5588\n",
      "Epoch 14/40\n",
      "30/30 [==============================] - 2s 54ms/step - loss: 0.8463 - accuracy: 0.7192 - val_loss: 1.1072 - val_accuracy: 0.5731\n",
      "Epoch 15/40\n",
      "30/30 [==============================] - 2s 52ms/step - loss: 0.7970 - accuracy: 0.7447 - val_loss: 1.1214 - val_accuracy: 0.5588\n",
      "Epoch 16/40\n",
      "30/30 [==============================] - 2s 55ms/step - loss: 0.7716 - accuracy: 0.7597 - val_loss: 1.0855 - val_accuracy: 0.5899\n",
      "Epoch 17/40\n",
      "30/30 [==============================] - 1s 48ms/step - loss: 0.7385 - accuracy: 0.7695 - val_loss: 1.0649 - val_accuracy: 0.5851\n",
      "Epoch 18/40\n",
      "30/30 [==============================] - 2s 61ms/step - loss: 0.7149 - accuracy: 0.7764 - val_loss: 1.0531 - val_accuracy: 0.6067\n",
      "Epoch 19/40\n",
      "30/30 [==============================] - 2s 65ms/step - loss: 0.6754 - accuracy: 0.7903 - val_loss: 1.0565 - val_accuracy: 0.5971\n",
      "Epoch 20/40\n",
      "30/30 [==============================] - 2s 64ms/step - loss: 0.6566 - accuracy: 0.8023 - val_loss: 1.0227 - val_accuracy: 0.5899\n",
      "Epoch 21/40\n",
      "30/30 [==============================] - 1s 49ms/step - loss: 0.6433 - accuracy: 0.8010 - val_loss: 1.0311 - val_accuracy: 0.6019\n",
      "Epoch 22/40\n",
      "30/30 [==============================] - 2s 60ms/step - loss: 0.6217 - accuracy: 0.8111 - val_loss: 1.0646 - val_accuracy: 0.6187\n",
      "Epoch 23/40\n",
      "30/30 [==============================] - 2s 55ms/step - loss: 0.5949 - accuracy: 0.8193 - val_loss: 1.0467 - val_accuracy: 0.6139\n",
      "Epoch 24/40\n",
      "30/30 [==============================] - 1s 46ms/step - loss: 0.5698 - accuracy: 0.8321 - val_loss: 1.0262 - val_accuracy: 0.6067\n",
      "Epoch 25/40\n",
      "30/30 [==============================] - 2s 53ms/step - loss: 0.5409 - accuracy: 0.8497 - val_loss: 1.0138 - val_accuracy: 0.6091\n",
      "Epoch 26/40\n",
      "30/30 [==============================] - 1s 46ms/step - loss: 0.5297 - accuracy: 0.8436 - val_loss: 1.0153 - val_accuracy: 0.6259\n",
      "Epoch 27/40\n",
      "30/30 [==============================] - 1s 46ms/step - loss: 0.4990 - accuracy: 0.8617 - val_loss: 1.0301 - val_accuracy: 0.6235\n",
      "Epoch 28/40\n",
      "30/30 [==============================] - 2s 51ms/step - loss: 0.4820 - accuracy: 0.8665 - val_loss: 1.0177 - val_accuracy: 0.6043\n",
      "Epoch 29/40\n",
      "30/30 [==============================] - 1s 46ms/step - loss: 0.4809 - accuracy: 0.8646 - val_loss: 1.0073 - val_accuracy: 0.6307\n",
      "Epoch 30/40\n",
      "30/30 [==============================] - 2s 52ms/step - loss: 0.4608 - accuracy: 0.8758 - val_loss: 1.0280 - val_accuracy: 0.6235\n",
      "Epoch 31/40\n",
      "30/30 [==============================] - 1s 47ms/step - loss: 0.4467 - accuracy: 0.8790 - val_loss: 1.0086 - val_accuracy: 0.6451\n",
      "Epoch 32/40\n",
      "30/30 [==============================] - 1s 48ms/step - loss: 0.4215 - accuracy: 0.8902 - val_loss: 1.0077 - val_accuracy: 0.6283\n",
      "Epoch 33/40\n",
      "30/30 [==============================] - 2s 56ms/step - loss: 0.4001 - accuracy: 0.8953 - val_loss: 0.9836 - val_accuracy: 0.6427\n",
      "Epoch 34/40\n",
      "30/30 [==============================] - 2s 50ms/step - loss: 0.3925 - accuracy: 0.8953 - val_loss: 1.0022 - val_accuracy: 0.6355\n",
      "Epoch 35/40\n",
      "30/30 [==============================] - 1s 46ms/step - loss: 0.3894 - accuracy: 0.8982 - val_loss: 1.0164 - val_accuracy: 0.6259\n",
      "Epoch 36/40\n",
      "30/30 [==============================] - 1s 47ms/step - loss: 0.3777 - accuracy: 0.9017 - val_loss: 1.0398 - val_accuracy: 0.6235\n",
      "Epoch 37/40\n",
      "30/30 [==============================] - 1s 50ms/step - loss: 0.3629 - accuracy: 0.9054 - val_loss: 1.0450 - val_accuracy: 0.6307\n",
      "Epoch 38/40\n",
      "30/30 [==============================] - 1s 43ms/step - loss: 0.3433 - accuracy: 0.9121 - val_loss: 1.0066 - val_accuracy: 0.6403\n",
      "Epoch 39/40\n",
      "30/30 [==============================] - 1s 45ms/step - loss: 0.3361 - accuracy: 0.9115 - val_loss: 1.0202 - val_accuracy: 0.6355\n",
      "Epoch 40/40\n",
      "30/30 [==============================] - 1s 46ms/step - loss: 0.3316 - accuracy: 0.9182 - val_loss: 0.9953 - val_accuracy: 0.6595\n",
      "finished : 10mels_4mfcc.pkl\n",
      "305/305 [==============================] - 2s 8ms/step - loss: 1.0950 - accuracy: 0.6120\n",
      "Test accuracy of model with 0.15 recurrent_dropout: 0.6120\n",
      "starting : 10mels_5mfcc.pkl\n",
      "Epoch 1/40\n",
      "30/30 [==============================] - 6s 77ms/step - loss: 1.7625 - accuracy: 0.2329 - val_loss: 1.6262 - val_accuracy: 0.3309\n",
      "Epoch 2/40\n",
      "30/30 [==============================] - 2s 54ms/step - loss: 1.5574 - accuracy: 0.3728 - val_loss: 1.5356 - val_accuracy: 0.3573\n",
      "Epoch 3/40\n",
      "30/30 [==============================] - 2s 55ms/step - loss: 1.4437 - accuracy: 0.4524 - val_loss: 1.4665 - val_accuracy: 0.4005\n",
      "Epoch 4/40\n",
      "30/30 [==============================] - 2s 52ms/step - loss: 1.3510 - accuracy: 0.5103 - val_loss: 1.4192 - val_accuracy: 0.4460\n",
      "Epoch 5/40\n",
      "30/30 [==============================] - 2s 55ms/step - loss: 1.2573 - accuracy: 0.5673 - val_loss: 1.3781 - val_accuracy: 0.4317\n",
      "Epoch 6/40\n",
      "30/30 [==============================] - 2s 67ms/step - loss: 1.1834 - accuracy: 0.6003 - val_loss: 1.3390 - val_accuracy: 0.4820\n",
      "Epoch 7/40\n",
      "30/30 [==============================] - 2s 79ms/step - loss: 1.1071 - accuracy: 0.6358 - val_loss: 1.2866 - val_accuracy: 0.5012\n",
      "Epoch 8/40\n",
      "30/30 [==============================] - 2s 57ms/step - loss: 1.0399 - accuracy: 0.6659 - val_loss: 1.2720 - val_accuracy: 0.5012\n",
      "Epoch 9/40\n",
      "30/30 [==============================] - 2s 66ms/step - loss: 0.9785 - accuracy: 0.6896 - val_loss: 1.2131 - val_accuracy: 0.5252\n",
      "Epoch 10/40\n",
      "30/30 [==============================] - 2s 53ms/step - loss: 0.9181 - accuracy: 0.7170 - val_loss: 1.2017 - val_accuracy: 0.5252\n",
      "Epoch 11/40\n",
      "30/30 [==============================] - 2s 53ms/step - loss: 0.8588 - accuracy: 0.7450 - val_loss: 1.1676 - val_accuracy: 0.5635\n",
      "Epoch 12/40\n",
      "30/30 [==============================] - 2s 53ms/step - loss: 0.8152 - accuracy: 0.7509 - val_loss: 1.1410 - val_accuracy: 0.5779\n",
      "Epoch 13/40\n",
      "30/30 [==============================] - 2s 68ms/step - loss: 0.7687 - accuracy: 0.7714 - val_loss: 1.1467 - val_accuracy: 0.5875\n",
      "Epoch 14/40\n",
      "30/30 [==============================] - 2s 62ms/step - loss: 0.7253 - accuracy: 0.7847 - val_loss: 1.1192 - val_accuracy: 0.5803\n",
      "Epoch 15/40\n",
      "30/30 [==============================] - 2s 62ms/step - loss: 0.6756 - accuracy: 0.8015 - val_loss: 1.0864 - val_accuracy: 0.6091\n",
      "Epoch 16/40\n",
      "30/30 [==============================] - 2s 61ms/step - loss: 0.6381 - accuracy: 0.8140 - val_loss: 1.0816 - val_accuracy: 0.5899\n",
      "Epoch 17/40\n",
      "30/30 [==============================] - 2s 60ms/step - loss: 0.6061 - accuracy: 0.8297 - val_loss: 1.0712 - val_accuracy: 0.6019\n",
      "Epoch 18/40\n",
      "30/30 [==============================] - 2s 67ms/step - loss: 0.5718 - accuracy: 0.8457 - val_loss: 1.0591 - val_accuracy: 0.6139\n",
      "Epoch 19/40\n",
      "30/30 [==============================] - 2s 56ms/step - loss: 0.5407 - accuracy: 0.8545 - val_loss: 1.0662 - val_accuracy: 0.6139\n",
      "Epoch 20/40\n",
      "30/30 [==============================] - 2s 63ms/step - loss: 0.5129 - accuracy: 0.8662 - val_loss: 1.0575 - val_accuracy: 0.6187\n",
      "Epoch 21/40\n",
      "30/30 [==============================] - 2s 54ms/step - loss: 0.4903 - accuracy: 0.8713 - val_loss: 1.0827 - val_accuracy: 0.5971\n",
      "Epoch 22/40\n",
      "30/30 [==============================] - 1s 49ms/step - loss: 0.4655 - accuracy: 0.8782 - val_loss: 1.0639 - val_accuracy: 0.6091\n",
      "Epoch 23/40\n",
      "30/30 [==============================] - 2s 51ms/step - loss: 0.4322 - accuracy: 0.8953 - val_loss: 1.0550 - val_accuracy: 0.6067\n",
      "Epoch 24/40\n",
      "30/30 [==============================] - 2s 51ms/step - loss: 0.4013 - accuracy: 0.9017 - val_loss: 1.0298 - val_accuracy: 0.6211\n",
      "Epoch 25/40\n",
      "30/30 [==============================] - 2s 52ms/step - loss: 0.3965 - accuracy: 0.9033 - val_loss: 1.0624 - val_accuracy: 0.6115\n",
      "Epoch 26/40\n",
      "30/30 [==============================] - 2s 53ms/step - loss: 0.3726 - accuracy: 0.9147 - val_loss: 1.0435 - val_accuracy: 0.6307\n",
      "Epoch 27/40\n",
      "30/30 [==============================] - 2s 54ms/step - loss: 0.3487 - accuracy: 0.9166 - val_loss: 1.0330 - val_accuracy: 0.6091\n",
      "Epoch 28/40\n",
      "30/30 [==============================] - 2s 61ms/step - loss: 0.3326 - accuracy: 0.9265 - val_loss: 1.0456 - val_accuracy: 0.6307\n",
      "Epoch 29/40\n",
      "30/30 [==============================] - 2s 57ms/step - loss: 0.3166 - accuracy: 0.9289 - val_loss: 1.0542 - val_accuracy: 0.6139\n",
      "Epoch 30/40\n",
      "30/30 [==============================] - 2s 61ms/step - loss: 0.2867 - accuracy: 0.9416 - val_loss: 1.0585 - val_accuracy: 0.6211\n",
      "Epoch 31/40\n",
      "30/30 [==============================] - 2s 60ms/step - loss: 0.2829 - accuracy: 0.9422 - val_loss: 1.0542 - val_accuracy: 0.6163\n",
      "Epoch 32/40\n",
      "30/30 [==============================] - 2s 54ms/step - loss: 0.2593 - accuracy: 0.9523 - val_loss: 1.0428 - val_accuracy: 0.6067\n",
      "Epoch 33/40\n",
      "30/30 [==============================] - 1s 50ms/step - loss: 0.2601 - accuracy: 0.9440 - val_loss: 1.0744 - val_accuracy: 0.6235\n",
      "Epoch 34/40\n",
      "30/30 [==============================] - 2s 51ms/step - loss: 0.2613 - accuracy: 0.9430 - val_loss: 1.0609 - val_accuracy: 0.6283\n",
      "Epoch 35/40\n",
      "30/30 [==============================] - 2s 56ms/step - loss: 0.2402 - accuracy: 0.9531 - val_loss: 1.0987 - val_accuracy: 0.6067\n",
      "Epoch 36/40\n",
      "30/30 [==============================] - 2s 52ms/step - loss: 0.2281 - accuracy: 0.9544 - val_loss: 1.1003 - val_accuracy: 0.6139\n",
      "Epoch 37/40\n",
      "30/30 [==============================] - 2s 54ms/step - loss: 0.2179 - accuracy: 0.9568 - val_loss: 1.0820 - val_accuracy: 0.6331\n",
      "Epoch 38/40\n",
      "30/30 [==============================] - 2s 55ms/step - loss: 0.2096 - accuracy: 0.9619 - val_loss: 1.0491 - val_accuracy: 0.6307\n",
      "Epoch 39/40\n",
      "30/30 [==============================] - 2s 50ms/step - loss: 0.1995 - accuracy: 0.9654 - val_loss: 1.0891 - val_accuracy: 0.6379\n",
      "Epoch 40/40\n",
      "30/30 [==============================] - 2s 50ms/step - loss: 0.1922 - accuracy: 0.9648 - val_loss: 1.0751 - val_accuracy: 0.6235\n",
      "finished : 10mels_5mfcc.pkl\n",
      "305/305 [==============================] - 3s 8ms/step - loss: 1.0728 - accuracy: 0.6339\n",
      "Test accuracy of model with 0.15 recurrent_dropout: 0.6339\n",
      "starting : 10mels_7mfcc.pkl\n",
      "Epoch 1/40\n",
      "30/30 [==============================] - 7s 97ms/step - loss: 1.7699 - accuracy: 0.2387 - val_loss: 1.6837 - val_accuracy: 0.2902\n",
      "Epoch 2/40\n",
      "30/30 [==============================] - 2s 70ms/step - loss: 1.5803 - accuracy: 0.3648 - val_loss: 1.6216 - val_accuracy: 0.3261\n",
      "Epoch 3/40\n",
      "30/30 [==============================] - 2s 68ms/step - loss: 1.4740 - accuracy: 0.4338 - val_loss: 1.5680 - val_accuracy: 0.3669\n",
      "Epoch 4/40\n",
      "30/30 [==============================] - 2s 74ms/step - loss: 1.3798 - accuracy: 0.4895 - val_loss: 1.5504 - val_accuracy: 0.3597\n",
      "Epoch 5/40\n",
      "30/30 [==============================] - 3s 94ms/step - loss: 1.2914 - accuracy: 0.5398 - val_loss: 1.4936 - val_accuracy: 0.3981\n",
      "Epoch 6/40\n",
      "30/30 [==============================] - 2s 76ms/step - loss: 1.2085 - accuracy: 0.5785 - val_loss: 1.4619 - val_accuracy: 0.4341\n",
      "Epoch 7/40\n",
      "30/30 [==============================] - 2s 74ms/step - loss: 1.1308 - accuracy: 0.6131 - val_loss: 1.4241 - val_accuracy: 0.4628\n",
      "Epoch 8/40\n",
      "30/30 [==============================] - 2s 72ms/step - loss: 1.0598 - accuracy: 0.6501 - val_loss: 1.4131 - val_accuracy: 0.4460\n",
      "Epoch 9/40\n",
      "30/30 [==============================] - 2s 71ms/step - loss: 0.9926 - accuracy: 0.6787 - val_loss: 1.3991 - val_accuracy: 0.4484\n",
      "Epoch 10/40\n",
      "30/30 [==============================] - 2s 73ms/step - loss: 0.9364 - accuracy: 0.7024 - val_loss: 1.3908 - val_accuracy: 0.4868\n",
      "Epoch 11/40\n",
      "30/30 [==============================] - 3s 91ms/step - loss: 0.8694 - accuracy: 0.7293 - val_loss: 1.3603 - val_accuracy: 0.4748\n",
      "Epoch 12/40\n",
      "30/30 [==============================] - 3s 91ms/step - loss: 0.8012 - accuracy: 0.7583 - val_loss: 1.3710 - val_accuracy: 0.4796\n",
      "Epoch 13/40\n",
      "30/30 [==============================] - 3s 92ms/step - loss: 0.7536 - accuracy: 0.7791 - val_loss: 1.3349 - val_accuracy: 0.5012\n",
      "Epoch 14/40\n",
      "30/30 [==============================] - 2s 78ms/step - loss: 0.6974 - accuracy: 0.8018 - val_loss: 1.3385 - val_accuracy: 0.4940\n",
      "Epoch 15/40\n",
      "30/30 [==============================] - 3s 85ms/step - loss: 0.6507 - accuracy: 0.8135 - val_loss: 1.3032 - val_accuracy: 0.5180\n",
      "Epoch 16/40\n",
      "30/30 [==============================] - 2s 72ms/step - loss: 0.5955 - accuracy: 0.8361 - val_loss: 1.3215 - val_accuracy: 0.5252\n",
      "Epoch 17/40\n",
      "30/30 [==============================] - 2s 79ms/step - loss: 0.5625 - accuracy: 0.8508 - val_loss: 1.2806 - val_accuracy: 0.5612\n",
      "Epoch 18/40\n",
      "30/30 [==============================] - 3s 99ms/step - loss: 0.5296 - accuracy: 0.8590 - val_loss: 1.3079 - val_accuracy: 0.5252\n",
      "Epoch 19/40\n",
      "30/30 [==============================] - 2s 73ms/step - loss: 0.4907 - accuracy: 0.8678 - val_loss: 1.2975 - val_accuracy: 0.5492\n",
      "Epoch 20/40\n",
      "30/30 [==============================] - 2s 75ms/step - loss: 0.4563 - accuracy: 0.8817 - val_loss: 1.2896 - val_accuracy: 0.5372\n",
      "Epoch 21/40\n",
      "30/30 [==============================] - 2s 79ms/step - loss: 0.4242 - accuracy: 0.8894 - val_loss: 1.2478 - val_accuracy: 0.5516\n",
      "Epoch 22/40\n",
      "30/30 [==============================] - 3s 98ms/step - loss: 0.3957 - accuracy: 0.9033 - val_loss: 1.2620 - val_accuracy: 0.5516\n",
      "Epoch 23/40\n",
      "30/30 [==============================] - 2s 82ms/step - loss: 0.3789 - accuracy: 0.9113 - val_loss: 1.3328 - val_accuracy: 0.5540\n",
      "Epoch 24/40\n",
      "30/30 [==============================] - 3s 90ms/step - loss: 0.3542 - accuracy: 0.9147 - val_loss: 1.2991 - val_accuracy: 0.5468\n",
      "Epoch 25/40\n",
      "30/30 [==============================] - 2s 83ms/step - loss: 0.3362 - accuracy: 0.9217 - val_loss: 1.3309 - val_accuracy: 0.5396\n",
      "Epoch 26/40\n",
      "30/30 [==============================] - 3s 85ms/step - loss: 0.3168 - accuracy: 0.9294 - val_loss: 1.3014 - val_accuracy: 0.5564\n",
      "Epoch 27/40\n",
      "30/30 [==============================] - 3s 85ms/step - loss: 0.3013 - accuracy: 0.9273 - val_loss: 1.2938 - val_accuracy: 0.5731\n",
      "Epoch 28/40\n",
      "30/30 [==============================] - 3s 94ms/step - loss: 0.2686 - accuracy: 0.9446 - val_loss: 1.3078 - val_accuracy: 0.5444\n",
      "Epoch 29/40\n",
      "30/30 [==============================] - 2s 83ms/step - loss: 0.2628 - accuracy: 0.9443 - val_loss: 1.3034 - val_accuracy: 0.5612\n",
      "Epoch 30/40\n",
      "30/30 [==============================] - 2s 82ms/step - loss: 0.2429 - accuracy: 0.9542 - val_loss: 1.2952 - val_accuracy: 0.5827\n",
      "Epoch 31/40\n",
      "30/30 [==============================] - 3s 85ms/step - loss: 0.2359 - accuracy: 0.9499 - val_loss: 1.3520 - val_accuracy: 0.5540\n",
      "Epoch 32/40\n",
      "30/30 [==============================] - 2s 74ms/step - loss: 0.2324 - accuracy: 0.9502 - val_loss: 1.3116 - val_accuracy: 0.5803\n",
      "Epoch 33/40\n",
      "30/30 [==============================] - 2s 68ms/step - loss: 0.2120 - accuracy: 0.9523 - val_loss: 1.3336 - val_accuracy: 0.5731\n",
      "Epoch 34/40\n",
      "30/30 [==============================] - 2s 75ms/step - loss: 0.1976 - accuracy: 0.9640 - val_loss: 1.2934 - val_accuracy: 0.5923\n",
      "Epoch 35/40\n",
      "30/30 [==============================] - 2s 68ms/step - loss: 0.1892 - accuracy: 0.9603 - val_loss: 1.3350 - val_accuracy: 0.5707\n",
      "Epoch 36/40\n",
      "30/30 [==============================] - 2s 70ms/step - loss: 0.1917 - accuracy: 0.9603 - val_loss: 1.3776 - val_accuracy: 0.5659\n",
      "Epoch 37/40\n",
      "30/30 [==============================] - 2s 77ms/step - loss: 0.1855 - accuracy: 0.9643 - val_loss: 1.4096 - val_accuracy: 0.5444\n",
      "Epoch 38/40\n",
      "30/30 [==============================] - 2s 67ms/step - loss: 0.1684 - accuracy: 0.9646 - val_loss: 1.3852 - val_accuracy: 0.5779\n",
      "Epoch 39/40\n",
      "30/30 [==============================] - 2s 75ms/step - loss: 0.1575 - accuracy: 0.9702 - val_loss: 1.3633 - val_accuracy: 0.5612\n",
      "Epoch 40/40\n",
      "30/30 [==============================] - 2s 71ms/step - loss: 0.1551 - accuracy: 0.9680 - val_loss: 1.3286 - val_accuracy: 0.5947\n",
      "finished : 10mels_7mfcc.pkl\n",
      "305/305 [==============================] - 3s 11ms/step - loss: 1.3636 - accuracy: 0.5766\n",
      "Test accuracy of model with 0.15 recurrent_dropout: 0.5766\n",
      "starting : 20mels_3mfcc.pkl\n",
      "Epoch 1/40\n",
      "30/30 [==============================] - 7s 53ms/step - loss: 1.8317 - accuracy: 0.2017 - val_loss: 1.7486 - val_accuracy: 0.2446\n",
      "Epoch 2/40\n",
      "30/30 [==============================] - 1s 37ms/step - loss: 1.6847 - accuracy: 0.2950 - val_loss: 1.6925 - val_accuracy: 0.2902\n",
      "Epoch 3/40\n",
      "30/30 [==============================] - 1s 35ms/step - loss: 1.6110 - accuracy: 0.3448 - val_loss: 1.6480 - val_accuracy: 0.3022\n",
      "Epoch 4/40\n",
      "30/30 [==============================] - 1s 37ms/step - loss: 1.5396 - accuracy: 0.3949 - val_loss: 1.6226 - val_accuracy: 0.3237\n",
      "Epoch 5/40\n",
      "30/30 [==============================] - 1s 40ms/step - loss: 1.4818 - accuracy: 0.4258 - val_loss: 1.5789 - val_accuracy: 0.3525\n",
      "Epoch 6/40\n",
      "30/30 [==============================] - 1s 36ms/step - loss: 1.4257 - accuracy: 0.4524 - val_loss: 1.5625 - val_accuracy: 0.3501\n",
      "Epoch 7/40\n",
      "30/30 [==============================] - 1s 38ms/step - loss: 1.4000 - accuracy: 0.4714 - val_loss: 1.5647 - val_accuracy: 0.3621\n",
      "Epoch 8/40\n",
      "30/30 [==============================] - 1s 35ms/step - loss: 1.3529 - accuracy: 0.4988 - val_loss: 1.5453 - val_accuracy: 0.3669\n",
      "Epoch 9/40\n",
      "30/30 [==============================] - 1s 38ms/step - loss: 1.2995 - accuracy: 0.5246 - val_loss: 1.5180 - val_accuracy: 0.3813\n",
      "Epoch 10/40\n",
      "30/30 [==============================] - 1s 35ms/step - loss: 1.2634 - accuracy: 0.5364 - val_loss: 1.4822 - val_accuracy: 0.3909\n",
      "Epoch 11/40\n",
      "30/30 [==============================] - 1s 43ms/step - loss: 1.2347 - accuracy: 0.5596 - val_loss: 1.4404 - val_accuracy: 0.4197\n",
      "Epoch 12/40\n",
      "30/30 [==============================] - 1s 36ms/step - loss: 1.2037 - accuracy: 0.5675 - val_loss: 1.4577 - val_accuracy: 0.4053\n",
      "Epoch 13/40\n",
      "30/30 [==============================] - 1s 39ms/step - loss: 1.1667 - accuracy: 0.5779 - val_loss: 1.4350 - val_accuracy: 0.4173\n",
      "Epoch 14/40\n",
      "30/30 [==============================] - 1s 35ms/step - loss: 1.1401 - accuracy: 0.6043 - val_loss: 1.4376 - val_accuracy: 0.4269\n",
      "Epoch 15/40\n",
      "30/30 [==============================] - 1s 37ms/step - loss: 1.0990 - accuracy: 0.6214 - val_loss: 1.3960 - val_accuracy: 0.4484\n",
      "Epoch 16/40\n",
      "30/30 [==============================] - 1s 34ms/step - loss: 1.0817 - accuracy: 0.6200 - val_loss: 1.3938 - val_accuracy: 0.4436\n",
      "Epoch 17/40\n",
      "30/30 [==============================] - 1s 38ms/step - loss: 1.0409 - accuracy: 0.6461 - val_loss: 1.4023 - val_accuracy: 0.4293\n",
      "Epoch 18/40\n",
      "30/30 [==============================] - 1s 35ms/step - loss: 1.0289 - accuracy: 0.6517 - val_loss: 1.4008 - val_accuracy: 0.4508\n",
      "Epoch 19/40\n",
      "30/30 [==============================] - 1s 35ms/step - loss: 1.0015 - accuracy: 0.6552 - val_loss: 1.3939 - val_accuracy: 0.4460\n",
      "Epoch 20/40\n",
      "30/30 [==============================] - 1s 40ms/step - loss: 0.9811 - accuracy: 0.6765 - val_loss: 1.4151 - val_accuracy: 0.4508\n",
      "Epoch 21/40\n",
      "30/30 [==============================] - 1s 35ms/step - loss: 0.9478 - accuracy: 0.6920 - val_loss: 1.3834 - val_accuracy: 0.4580\n",
      "Epoch 22/40\n",
      "30/30 [==============================] - 1s 36ms/step - loss: 0.9253 - accuracy: 0.6914 - val_loss: 1.3841 - val_accuracy: 0.4556\n",
      "Epoch 23/40\n",
      "30/30 [==============================] - 1s 39ms/step - loss: 0.8912 - accuracy: 0.7096 - val_loss: 1.3860 - val_accuracy: 0.4508\n",
      "Epoch 24/40\n",
      "30/30 [==============================] - 1s 36ms/step - loss: 0.8898 - accuracy: 0.7149 - val_loss: 1.3865 - val_accuracy: 0.4580\n",
      "Epoch 25/40\n",
      "30/30 [==============================] - 1s 35ms/step - loss: 0.8755 - accuracy: 0.7117 - val_loss: 1.3690 - val_accuracy: 0.4652\n",
      "Epoch 26/40\n",
      "30/30 [==============================] - 1s 43ms/step - loss: 0.8612 - accuracy: 0.7101 - val_loss: 1.3718 - val_accuracy: 0.4652\n",
      "Epoch 27/40\n",
      "30/30 [==============================] - 1s 39ms/step - loss: 0.8505 - accuracy: 0.7248 - val_loss: 1.3945 - val_accuracy: 0.4724\n",
      "Epoch 28/40\n",
      "30/30 [==============================] - 1s 36ms/step - loss: 0.8388 - accuracy: 0.7216 - val_loss: 1.3869 - val_accuracy: 0.4628\n",
      "Epoch 29/40\n",
      "30/30 [==============================] - 1s 37ms/step - loss: 0.8064 - accuracy: 0.7373 - val_loss: 1.3811 - val_accuracy: 0.4580\n",
      "Epoch 30/40\n",
      "30/30 [==============================] - 1s 37ms/step - loss: 0.7942 - accuracy: 0.7471 - val_loss: 1.3822 - val_accuracy: 0.4388\n",
      "Epoch 31/40\n",
      "30/30 [==============================] - 1s 35ms/step - loss: 0.7840 - accuracy: 0.7514 - val_loss: 1.4007 - val_accuracy: 0.4532\n",
      "Epoch 32/40\n",
      "30/30 [==============================] - 1s 35ms/step - loss: 0.7619 - accuracy: 0.7567 - val_loss: 1.3817 - val_accuracy: 0.4508\n",
      "Epoch 33/40\n",
      "30/30 [==============================] - 1s 36ms/step - loss: 0.7386 - accuracy: 0.7679 - val_loss: 1.3526 - val_accuracy: 0.4868\n",
      "Epoch 34/40\n",
      "30/30 [==============================] - 1s 38ms/step - loss: 0.7223 - accuracy: 0.7663 - val_loss: 1.3856 - val_accuracy: 0.4484\n",
      "Epoch 35/40\n",
      "30/30 [==============================] - 1s 36ms/step - loss: 0.7063 - accuracy: 0.7802 - val_loss: 1.3929 - val_accuracy: 0.4652\n",
      "Epoch 36/40\n",
      "30/30 [==============================] - 1s 39ms/step - loss: 0.6969 - accuracy: 0.7860 - val_loss: 1.3765 - val_accuracy: 0.4556\n",
      "Epoch 37/40\n",
      "30/30 [==============================] - 1s 39ms/step - loss: 0.6644 - accuracy: 0.7948 - val_loss: 1.4260 - val_accuracy: 0.4388\n",
      "Epoch 38/40\n",
      "30/30 [==============================] - 1s 34ms/step - loss: 0.6431 - accuracy: 0.8026 - val_loss: 1.3834 - val_accuracy: 0.4964\n",
      "Epoch 39/40\n",
      "30/30 [==============================] - 1s 37ms/step - loss: 0.6444 - accuracy: 0.8028 - val_loss: 1.3879 - val_accuracy: 0.4724\n",
      "Epoch 40/40\n",
      "30/30 [==============================] - 1s 37ms/step - loss: 0.6378 - accuracy: 0.8028 - val_loss: 1.3794 - val_accuracy: 0.4940\n",
      "finished : 20mels_3mfcc.pkl\n",
      "305/305 [==============================] - 2s 6ms/step - loss: 1.3628 - accuracy: 0.4904\n",
      "Test accuracy of model with 0.15 recurrent_dropout: 0.4904\n",
      "starting : 20mels_4mfcc.pkl\n",
      "Epoch 1/40\n",
      "30/30 [==============================] - 6s 68ms/step - loss: 1.7867 - accuracy: 0.2310 - val_loss: 1.6324 - val_accuracy: 0.3453\n",
      "Epoch 2/40\n",
      "30/30 [==============================] - 1s 44ms/step - loss: 1.5969 - accuracy: 0.3560 - val_loss: 1.5419 - val_accuracy: 0.4341\n",
      "Epoch 3/40\n",
      "30/30 [==============================] - 1s 44ms/step - loss: 1.5024 - accuracy: 0.4223 - val_loss: 1.4710 - val_accuracy: 0.4532\n",
      "Epoch 4/40\n",
      "30/30 [==============================] - 1s 46ms/step - loss: 1.4122 - accuracy: 0.4778 - val_loss: 1.4251 - val_accuracy: 0.4652\n",
      "Epoch 5/40\n",
      "30/30 [==============================] - 1s 44ms/step - loss: 1.3510 - accuracy: 0.5047 - val_loss: 1.3768 - val_accuracy: 0.4892\n",
      "Epoch 6/40\n",
      "30/30 [==============================] - 1s 47ms/step - loss: 1.2850 - accuracy: 0.5406 - val_loss: 1.3431 - val_accuracy: 0.5012\n",
      "Epoch 7/40\n",
      "30/30 [==============================] - 1s 44ms/step - loss: 1.2332 - accuracy: 0.5681 - val_loss: 1.3050 - val_accuracy: 0.4940\n",
      "Epoch 8/40\n",
      "30/30 [==============================] - 2s 59ms/step - loss: 1.1761 - accuracy: 0.5859 - val_loss: 1.2789 - val_accuracy: 0.5180\n",
      "Epoch 9/40\n",
      "30/30 [==============================] - 1s 45ms/step - loss: 1.1273 - accuracy: 0.6102 - val_loss: 1.2429 - val_accuracy: 0.5348\n",
      "Epoch 10/40\n",
      "30/30 [==============================] - 1s 50ms/step - loss: 1.0916 - accuracy: 0.6246 - val_loss: 1.2161 - val_accuracy: 0.5564\n",
      "Epoch 11/40\n",
      "30/30 [==============================] - 1s 46ms/step - loss: 1.0432 - accuracy: 0.6395 - val_loss: 1.1998 - val_accuracy: 0.5683\n",
      "Epoch 12/40\n",
      "30/30 [==============================] - 1s 42ms/step - loss: 1.0068 - accuracy: 0.6557 - val_loss: 1.2073 - val_accuracy: 0.5516\n",
      "Epoch 13/40\n",
      "30/30 [==============================] - 1s 50ms/step - loss: 0.9569 - accuracy: 0.6869 - val_loss: 1.1887 - val_accuracy: 0.5540\n",
      "Epoch 14/40\n",
      "30/30 [==============================] - 1s 48ms/step - loss: 0.9382 - accuracy: 0.6832 - val_loss: 1.1543 - val_accuracy: 0.5516\n",
      "Epoch 15/40\n",
      "30/30 [==============================] - 1s 45ms/step - loss: 0.8911 - accuracy: 0.7074 - val_loss: 1.1351 - val_accuracy: 0.5731\n",
      "Epoch 16/40\n",
      "30/30 [==============================] - 2s 74ms/step - loss: 0.8578 - accuracy: 0.7208 - val_loss: 1.1441 - val_accuracy: 0.5612\n",
      "Epoch 17/40\n",
      "30/30 [==============================] - 2s 60ms/step - loss: 0.8358 - accuracy: 0.7322 - val_loss: 1.1324 - val_accuracy: 0.5635\n",
      "Epoch 18/40\n",
      "30/30 [==============================] - 2s 60ms/step - loss: 0.8083 - accuracy: 0.7485 - val_loss: 1.1066 - val_accuracy: 0.5635\n",
      "Epoch 19/40\n",
      "30/30 [==============================] - 1s 48ms/step - loss: 0.7843 - accuracy: 0.7490 - val_loss: 1.1287 - val_accuracy: 0.5540\n",
      "Epoch 20/40\n",
      "30/30 [==============================] - 2s 66ms/step - loss: 0.7653 - accuracy: 0.7490 - val_loss: 1.0996 - val_accuracy: 0.5755\n",
      "Epoch 21/40\n",
      "30/30 [==============================] - 2s 52ms/step - loss: 0.7277 - accuracy: 0.7730 - val_loss: 1.1093 - val_accuracy: 0.5635\n",
      "Epoch 22/40\n",
      "30/30 [==============================] - 1s 46ms/step - loss: 0.7099 - accuracy: 0.7711 - val_loss: 1.0926 - val_accuracy: 0.5803\n",
      "Epoch 23/40\n",
      "30/30 [==============================] - 2s 52ms/step - loss: 0.6864 - accuracy: 0.7914 - val_loss: 1.1044 - val_accuracy: 0.5731\n",
      "Epoch 24/40\n",
      "30/30 [==============================] - 2s 56ms/step - loss: 0.6541 - accuracy: 0.7948 - val_loss: 1.0907 - val_accuracy: 0.5875\n",
      "Epoch 25/40\n",
      "30/30 [==============================] - 2s 55ms/step - loss: 0.6417 - accuracy: 0.8039 - val_loss: 1.1185 - val_accuracy: 0.5827\n",
      "Epoch 26/40\n",
      "30/30 [==============================] - 2s 60ms/step - loss: 0.6358 - accuracy: 0.7972 - val_loss: 1.0892 - val_accuracy: 0.5995\n",
      "Epoch 27/40\n",
      "30/30 [==============================] - 2s 55ms/step - loss: 0.6098 - accuracy: 0.8180 - val_loss: 1.1039 - val_accuracy: 0.5588\n",
      "Epoch 28/40\n",
      "30/30 [==============================] - 1s 44ms/step - loss: 0.5833 - accuracy: 0.8316 - val_loss: 1.0707 - val_accuracy: 0.5995\n",
      "Epoch 29/40\n",
      "30/30 [==============================] - 1s 46ms/step - loss: 0.5672 - accuracy: 0.8311 - val_loss: 1.1023 - val_accuracy: 0.5659\n",
      "Epoch 30/40\n",
      "30/30 [==============================] - 1s 49ms/step - loss: 0.5584 - accuracy: 0.8319 - val_loss: 1.0778 - val_accuracy: 0.5827\n",
      "Epoch 31/40\n",
      "30/30 [==============================] - 1s 44ms/step - loss: 0.5312 - accuracy: 0.8468 - val_loss: 1.0907 - val_accuracy: 0.5827\n",
      "Epoch 32/40\n",
      "30/30 [==============================] - 1s 47ms/step - loss: 0.5143 - accuracy: 0.8476 - val_loss: 1.0790 - val_accuracy: 0.5947\n",
      "Epoch 33/40\n",
      "30/30 [==============================] - 1s 44ms/step - loss: 0.5034 - accuracy: 0.8582 - val_loss: 1.1028 - val_accuracy: 0.5707\n",
      "Epoch 34/40\n",
      "30/30 [==============================] - 1s 45ms/step - loss: 0.5008 - accuracy: 0.8564 - val_loss: 1.0836 - val_accuracy: 0.5779\n",
      "Epoch 35/40\n",
      "30/30 [==============================] - 1s 47ms/step - loss: 0.4832 - accuracy: 0.8569 - val_loss: 1.1019 - val_accuracy: 0.5851\n",
      "Epoch 36/40\n",
      "30/30 [==============================] - 1s 44ms/step - loss: 0.4692 - accuracy: 0.8657 - val_loss: 1.1138 - val_accuracy: 0.5827\n",
      "Epoch 37/40\n",
      "30/30 [==============================] - 1s 45ms/step - loss: 0.4486 - accuracy: 0.8798 - val_loss: 1.0724 - val_accuracy: 0.5875\n",
      "Epoch 38/40\n",
      "30/30 [==============================] - 1s 48ms/step - loss: 0.4339 - accuracy: 0.8745 - val_loss: 1.0627 - val_accuracy: 0.6019\n",
      "Epoch 39/40\n",
      "30/30 [==============================] - 1s 43ms/step - loss: 0.4428 - accuracy: 0.8750 - val_loss: 1.1069 - val_accuracy: 0.5947\n",
      "Epoch 40/40\n",
      "30/30 [==============================] - 1s 48ms/step - loss: 0.4284 - accuracy: 0.8806 - val_loss: 1.0641 - val_accuracy: 0.6283\n",
      "finished : 20mels_4mfcc.pkl\n",
      "305/305 [==============================] - 2s 8ms/step - loss: 1.1724 - accuracy: 0.5827\n",
      "Test accuracy of model with 0.15 recurrent_dropout: 0.5827\n",
      "starting : 20mels_5mfcc.pkl\n",
      "Epoch 1/40\n",
      "30/30 [==============================] - 7s 91ms/step - loss: 1.7754 - accuracy: 0.2278 - val_loss: 1.6595 - val_accuracy: 0.3070\n",
      "Epoch 2/40\n",
      "30/30 [==============================] - 2s 51ms/step - loss: 1.5772 - accuracy: 0.3706 - val_loss: 1.5799 - val_accuracy: 0.3645\n",
      "Epoch 3/40\n",
      "30/30 [==============================] - 2s 59ms/step - loss: 1.4719 - accuracy: 0.4404 - val_loss: 1.5259 - val_accuracy: 0.3933\n",
      "Epoch 4/40\n",
      "30/30 [==============================] - 2s 51ms/step - loss: 1.3866 - accuracy: 0.4959 - val_loss: 1.4837 - val_accuracy: 0.4101\n",
      "Epoch 5/40\n",
      "30/30 [==============================] - 2s 51ms/step - loss: 1.3074 - accuracy: 0.5345 - val_loss: 1.4238 - val_accuracy: 0.4604\n",
      "Epoch 6/40\n",
      "30/30 [==============================] - 2s 58ms/step - loss: 1.2340 - accuracy: 0.5761 - val_loss: 1.4080 - val_accuracy: 0.4508\n",
      "Epoch 7/40\n",
      "30/30 [==============================] - 2s 53ms/step - loss: 1.1752 - accuracy: 0.6056 - val_loss: 1.3595 - val_accuracy: 0.4748\n",
      "Epoch 8/40\n",
      "30/30 [==============================] - 1s 50ms/step - loss: 1.1132 - accuracy: 0.6350 - val_loss: 1.3350 - val_accuracy: 0.4676\n",
      "Epoch 9/40\n",
      "30/30 [==============================] - 2s 51ms/step - loss: 1.0523 - accuracy: 0.6709 - val_loss: 1.3252 - val_accuracy: 0.5180\n",
      "Epoch 10/40\n",
      "30/30 [==============================] - 2s 52ms/step - loss: 1.0033 - accuracy: 0.6811 - val_loss: 1.3053 - val_accuracy: 0.4892\n",
      "Epoch 11/40\n",
      "30/30 [==============================] - 2s 60ms/step - loss: 0.9546 - accuracy: 0.6957 - val_loss: 1.2727 - val_accuracy: 0.4892\n",
      "Epoch 12/40\n",
      "30/30 [==============================] - 2s 59ms/step - loss: 0.9154 - accuracy: 0.7200 - val_loss: 1.2477 - val_accuracy: 0.4940\n",
      "Epoch 13/40\n",
      "30/30 [==============================] - 2s 68ms/step - loss: 0.8701 - accuracy: 0.7250 - val_loss: 1.2295 - val_accuracy: 0.5444\n",
      "Epoch 14/40\n",
      "30/30 [==============================] - 2s 60ms/step - loss: 0.8258 - accuracy: 0.7490 - val_loss: 1.2305 - val_accuracy: 0.5276\n",
      "Epoch 15/40\n",
      "30/30 [==============================] - 2s 55ms/step - loss: 0.8026 - accuracy: 0.7602 - val_loss: 1.2157 - val_accuracy: 0.5324\n",
      "Epoch 16/40\n",
      "30/30 [==============================] - 2s 58ms/step - loss: 0.7481 - accuracy: 0.7831 - val_loss: 1.2258 - val_accuracy: 0.5468\n",
      "Epoch 17/40\n",
      "30/30 [==============================] - 2s 54ms/step - loss: 0.7088 - accuracy: 0.7956 - val_loss: 1.2010 - val_accuracy: 0.5755\n",
      "Epoch 18/40\n",
      "30/30 [==============================] - 2s 63ms/step - loss: 0.6802 - accuracy: 0.8137 - val_loss: 1.1793 - val_accuracy: 0.5707\n",
      "Epoch 19/40\n",
      "30/30 [==============================] - 2s 61ms/step - loss: 0.6503 - accuracy: 0.8207 - val_loss: 1.1634 - val_accuracy: 0.5612\n",
      "Epoch 20/40\n",
      "30/30 [==============================] - 2s 69ms/step - loss: 0.6163 - accuracy: 0.8348 - val_loss: 1.1647 - val_accuracy: 0.5899\n",
      "Epoch 21/40\n",
      "30/30 [==============================] - 2s 55ms/step - loss: 0.5952 - accuracy: 0.8385 - val_loss: 1.1642 - val_accuracy: 0.5899\n",
      "Epoch 22/40\n",
      "30/30 [==============================] - 2s 53ms/step - loss: 0.5571 - accuracy: 0.8582 - val_loss: 1.1609 - val_accuracy: 0.5947\n",
      "Epoch 23/40\n",
      "30/30 [==============================] - 2s 65ms/step - loss: 0.5361 - accuracy: 0.8622 - val_loss: 1.1388 - val_accuracy: 0.6067\n",
      "Epoch 24/40\n",
      "30/30 [==============================] - 2s 59ms/step - loss: 0.5300 - accuracy: 0.8590 - val_loss: 1.1637 - val_accuracy: 0.5827\n",
      "Epoch 25/40\n",
      "30/30 [==============================] - 2s 59ms/step - loss: 0.4974 - accuracy: 0.8697 - val_loss: 1.1482 - val_accuracy: 0.5731\n",
      "Epoch 26/40\n",
      "30/30 [==============================] - 2s 60ms/step - loss: 0.4871 - accuracy: 0.8718 - val_loss: 1.1561 - val_accuracy: 0.6043\n",
      "Epoch 27/40\n",
      "30/30 [==============================] - 2s 60ms/step - loss: 0.4557 - accuracy: 0.8820 - val_loss: 1.1348 - val_accuracy: 0.5947\n",
      "Epoch 28/40\n",
      "30/30 [==============================] - 2s 59ms/step - loss: 0.4387 - accuracy: 0.8900 - val_loss: 1.1304 - val_accuracy: 0.6043\n",
      "Epoch 29/40\n",
      "30/30 [==============================] - 2s 64ms/step - loss: 0.4316 - accuracy: 0.8926 - val_loss: 1.1353 - val_accuracy: 0.6211\n",
      "Epoch 30/40\n",
      "30/30 [==============================] - 2s 51ms/step - loss: 0.4042 - accuracy: 0.8974 - val_loss: 1.1299 - val_accuracy: 0.6139\n",
      "Epoch 31/40\n",
      "30/30 [==============================] - 2s 64ms/step - loss: 0.3856 - accuracy: 0.9115 - val_loss: 1.1182 - val_accuracy: 0.5923\n",
      "Epoch 32/40\n",
      "30/30 [==============================] - 2s 58ms/step - loss: 0.3658 - accuracy: 0.9131 - val_loss: 1.1383 - val_accuracy: 0.6211\n",
      "Epoch 33/40\n",
      "30/30 [==============================] - 2s 62ms/step - loss: 0.3533 - accuracy: 0.9190 - val_loss: 1.1251 - val_accuracy: 0.6067\n",
      "Epoch 34/40\n",
      "30/30 [==============================] - 2s 61ms/step - loss: 0.3309 - accuracy: 0.9238 - val_loss: 1.0931 - val_accuracy: 0.6163\n",
      "Epoch 35/40\n",
      "30/30 [==============================] - 2s 60ms/step - loss: 0.3212 - accuracy: 0.9313 - val_loss: 1.1045 - val_accuracy: 0.5995\n",
      "Epoch 36/40\n",
      "30/30 [==============================] - 2s 63ms/step - loss: 0.3339 - accuracy: 0.9166 - val_loss: 1.1460 - val_accuracy: 0.6115\n",
      "Epoch 37/40\n",
      "30/30 [==============================] - 2s 73ms/step - loss: 0.3031 - accuracy: 0.9302 - val_loss: 1.1666 - val_accuracy: 0.5995\n",
      "Epoch 38/40\n",
      "30/30 [==============================] - 2s 64ms/step - loss: 0.2924 - accuracy: 0.9323 - val_loss: 1.1413 - val_accuracy: 0.6187\n",
      "Epoch 39/40\n",
      "30/30 [==============================] - 2s 60ms/step - loss: 0.2866 - accuracy: 0.9384 - val_loss: 1.1252 - val_accuracy: 0.6139\n",
      "Epoch 40/40\n",
      "30/30 [==============================] - 2s 55ms/step - loss: 0.2731 - accuracy: 0.9395 - val_loss: 1.1408 - val_accuracy: 0.5971\n",
      "finished : 20mels_5mfcc.pkl\n",
      "305/305 [==============================] - 3s 9ms/step - loss: 1.1525 - accuracy: 0.5998\n",
      "Test accuracy of model with 0.15 recurrent_dropout: 0.5998\n",
      "starting : 20mels_7mfcc.pkl\n",
      "Epoch 1/40\n",
      "30/30 [==============================] - 8s 116ms/step - loss: 1.7909 - accuracy: 0.2246 - val_loss: 1.6949 - val_accuracy: 0.2950\n",
      "Epoch 2/40\n",
      "30/30 [==============================] - 2s 79ms/step - loss: 1.6042 - accuracy: 0.3464 - val_loss: 1.6411 - val_accuracy: 0.3285\n",
      "Epoch 3/40\n",
      "30/30 [==============================] - 2s 77ms/step - loss: 1.5012 - accuracy: 0.4258 - val_loss: 1.5885 - val_accuracy: 0.3549\n",
      "Epoch 4/40\n",
      "30/30 [==============================] - 2s 71ms/step - loss: 1.4207 - accuracy: 0.4695 - val_loss: 1.5657 - val_accuracy: 0.3717\n",
      "Epoch 5/40\n",
      "30/30 [==============================] - 2s 74ms/step - loss: 1.3443 - accuracy: 0.5153 - val_loss: 1.5343 - val_accuracy: 0.4029\n",
      "Epoch 6/40\n",
      "30/30 [==============================] - 2s 73ms/step - loss: 1.2754 - accuracy: 0.5478 - val_loss: 1.4964 - val_accuracy: 0.3813\n",
      "Epoch 7/40\n",
      "30/30 [==============================] - 3s 87ms/step - loss: 1.2119 - accuracy: 0.5915 - val_loss: 1.4787 - val_accuracy: 0.3909\n",
      "Epoch 8/40\n",
      "30/30 [==============================] - 2s 77ms/step - loss: 1.1485 - accuracy: 0.6142 - val_loss: 1.4544 - val_accuracy: 0.4245\n",
      "Epoch 9/40\n",
      "30/30 [==============================] - 2s 71ms/step - loss: 1.0884 - accuracy: 0.6438 - val_loss: 1.4565 - val_accuracy: 0.4269\n",
      "Epoch 10/40\n",
      "30/30 [==============================] - 2s 74ms/step - loss: 1.0270 - accuracy: 0.6725 - val_loss: 1.4467 - val_accuracy: 0.4221\n",
      "Epoch 11/40\n",
      "30/30 [==============================] - 3s 85ms/step - loss: 0.9783 - accuracy: 0.6795 - val_loss: 1.4202 - val_accuracy: 0.4532\n",
      "Epoch 12/40\n",
      "30/30 [==============================] - 2s 80ms/step - loss: 0.9238 - accuracy: 0.7210 - val_loss: 1.4194 - val_accuracy: 0.4484\n",
      "Epoch 13/40\n",
      "30/30 [==============================] - 2s 73ms/step - loss: 0.8958 - accuracy: 0.7293 - val_loss: 1.4184 - val_accuracy: 0.4460\n",
      "Epoch 14/40\n",
      "30/30 [==============================] - 2s 76ms/step - loss: 0.8411 - accuracy: 0.7458 - val_loss: 1.4078 - val_accuracy: 0.4436\n",
      "Epoch 15/40\n",
      "30/30 [==============================] - 2s 69ms/step - loss: 0.7986 - accuracy: 0.7663 - val_loss: 1.4214 - val_accuracy: 0.4724\n",
      "Epoch 16/40\n",
      "30/30 [==============================] - 2s 76ms/step - loss: 0.7681 - accuracy: 0.7690 - val_loss: 1.4212 - val_accuracy: 0.4772\n",
      "Epoch 17/40\n",
      "30/30 [==============================] - 2s 74ms/step - loss: 0.7171 - accuracy: 0.7927 - val_loss: 1.3899 - val_accuracy: 0.4796\n",
      "Epoch 18/40\n",
      "30/30 [==============================] - 2s 70ms/step - loss: 0.6860 - accuracy: 0.8018 - val_loss: 1.3848 - val_accuracy: 0.4940\n",
      "Epoch 19/40\n",
      "30/30 [==============================] - 2s 80ms/step - loss: 0.6345 - accuracy: 0.8236 - val_loss: 1.3925 - val_accuracy: 0.4844\n",
      "Epoch 20/40\n",
      "30/30 [==============================] - 2s 77ms/step - loss: 0.6102 - accuracy: 0.8409 - val_loss: 1.3746 - val_accuracy: 0.4844\n",
      "Epoch 21/40\n",
      "30/30 [==============================] - 2s 74ms/step - loss: 0.5745 - accuracy: 0.8497 - val_loss: 1.4118 - val_accuracy: 0.4844\n",
      "Epoch 22/40\n",
      "30/30 [==============================] - 2s 73ms/step - loss: 0.5446 - accuracy: 0.8572 - val_loss: 1.4062 - val_accuracy: 0.5036\n",
      "Epoch 23/40\n",
      "30/30 [==============================] - 3s 85ms/step - loss: 0.5108 - accuracy: 0.8705 - val_loss: 1.4020 - val_accuracy: 0.4988\n",
      "Epoch 24/40\n",
      "30/30 [==============================] - 2s 77ms/step - loss: 0.4857 - accuracy: 0.8828 - val_loss: 1.3837 - val_accuracy: 0.5252\n",
      "Epoch 25/40\n",
      "30/30 [==============================] - 2s 79ms/step - loss: 0.4661 - accuracy: 0.8825 - val_loss: 1.3945 - val_accuracy: 0.4916\n",
      "Epoch 26/40\n",
      "30/30 [==============================] - 2s 81ms/step - loss: 0.4410 - accuracy: 0.8921 - val_loss: 1.3845 - val_accuracy: 0.4964\n",
      "Epoch 27/40\n",
      "30/30 [==============================] - 2s 75ms/step - loss: 0.4175 - accuracy: 0.9019 - val_loss: 1.4242 - val_accuracy: 0.4988\n",
      "Epoch 28/40\n",
      "30/30 [==============================] - 2s 70ms/step - loss: 0.3902 - accuracy: 0.9129 - val_loss: 1.3985 - val_accuracy: 0.5060\n",
      "Epoch 29/40\n",
      "30/30 [==============================] - 2s 77ms/step - loss: 0.3874 - accuracy: 0.9139 - val_loss: 1.4098 - val_accuracy: 0.5036\n",
      "Epoch 30/40\n",
      "30/30 [==============================] - 2s 72ms/step - loss: 0.3669 - accuracy: 0.9145 - val_loss: 1.4109 - val_accuracy: 0.5108\n",
      "Epoch 31/40\n",
      "30/30 [==============================] - 2s 77ms/step - loss: 0.3447 - accuracy: 0.9225 - val_loss: 1.4165 - val_accuracy: 0.5180\n",
      "Epoch 32/40\n",
      "30/30 [==============================] - 2s 74ms/step - loss: 0.3324 - accuracy: 0.9278 - val_loss: 1.4176 - val_accuracy: 0.5156\n",
      "Epoch 33/40\n",
      "30/30 [==============================] - 2s 73ms/step - loss: 0.3145 - accuracy: 0.9321 - val_loss: 1.4460 - val_accuracy: 0.5252\n",
      "Epoch 34/40\n",
      "30/30 [==============================] - 2s 82ms/step - loss: 0.3009 - accuracy: 0.9395 - val_loss: 1.4558 - val_accuracy: 0.5084\n",
      "Epoch 35/40\n",
      "30/30 [==============================] - 2s 73ms/step - loss: 0.2908 - accuracy: 0.9374 - val_loss: 1.4953 - val_accuracy: 0.4940\n",
      "Epoch 36/40\n",
      "29/30 [============================>.] - ETA: 0s - loss: 0.2863 - accuracy: 0.9364Restoring model weights from the end of the best epoch: 24.\n",
      "30/30 [==============================] - 2s 73ms/step - loss: 0.2859 - accuracy: 0.9363 - val_loss: 1.4901 - val_accuracy: 0.5180\n",
      "Epoch 36: early stopping\n",
      "finished : 20mels_7mfcc.pkl\n",
      "305/305 [==============================] - 4s 12ms/step - loss: 1.4156 - accuracy: 0.4762\n",
      "Test accuracy of model with 0.15 recurrent_dropout: 0.4762\n"
     ]
    }
   ],
   "source": [
    "from sklearn.model_selection import train_test_split\n",
    "from keras.utils import to_categorical\n",
    "\n",
    "callback = EarlyStopping(monitor='val_accuracy', patience=12, restore_best_weights=True,verbose=1)\n",
    "\n",
    "n_mels_list = [10,20]\n",
    "n_mfcc_list = [3,4,5,7]\n",
    "\n",
    "\n",
    "classes = [\"yes\", \"no\", \"one\", \"two\", \"three\", \"four\"] \n",
    "learning_rate = 6*1e-4 \n",
    "epoch = 40 \n",
    "batch_size = 128\n",
    "validation_split = 0.1\n",
    "dropout = 0.15\n",
    "recurrent_dropout = 0.15\n",
    "\n",
    "histories = []\n",
    "test_accuracies = []\n",
    "for n_mels in n_mels_list:\n",
    "    for n_mfcc in n_mfcc_list:\n",
    "        print(\"starting : \"+str(n_mels)+\"mels_\"+str(n_mfcc)+\"mfcc.pkl\")\n",
    "        X_train, X_test, y_train, y_test, max_length, num_classes, classes = create_train_test(\"../assets/MFCCs/8k_train_\"+str(n_mels)+\"mels_\"+str(n_mfcc)+\"mfcc.pkl\",n_mels,n_mfcc,classes=classes,test_size=0.7)\n",
    "        model = create_model(learning_rate, dropout,\n",
    "                             recurrent_dropout, n_mfcc, max_length, num_classes)\n",
    "        history = model.fit(X_train, y_train, epochs=epoch, batch_size=batch_size, validation_split=validation_split, use_multiprocessing=True, callbacks=[callback])\n",
    "        histories.append(history)\n",
    "        print(\"finished : \"+str(n_mels)+\"mels_\"+str(n_mfcc)+\"mfcc.pkl\")\n",
    "        test_loss, test_acc = model.evaluate(X_test, y_test)\n",
    "        print(\"Test accuracy of model with {} recurrent_dropout: {:.4f}\".format(recurrent_dropout, test_acc))\n",
    "        test_accuracies.append(test_acc)\n"
   ]
  },
  {
   "cell_type": "code",
   "execution_count": null,
   "metadata": {},
   "outputs": [
    {
     "data": {
      "image/png": "[encoded data removed]",
      "text/plain": [
       "<Figure size 432x288 with 1 Axes>"
      ]
     },
     "metadata": {},
     "output_type": "display_data"
    }
   ],
   "source": [
    "import matplotlib.pyplot as plt\n",
    "plt.figure()\n",
    "\n",
    "labels = []\n",
    "for n_mels in n_mels_list:\n",
    "    for n_mfcc in n_mfcc_list:\n",
    "        labels.append((n_mels,n_mfcc))\n",
    "for i in range(len(histories)):\n",
    "    plt.plot(histories[i].history[\"val_accuracy\"])\n",
    "plt.legend(labels, loc='upper left', bbox_to_anchor=(1, 1))\n",
    "plt.title(\"Validation accuracy by epoch (n_mels,n_mfcc)\")\n",
    "plt.ylabel(\"Validation accuracy\")\n",
    "plt.xlabel(\"Epoch\")\n",
    "plt.show()"
   ]
  },
  {
   "attachments": {},
   "cell_type": "markdown",
   "metadata": {},
   "source": [
    "##   Grid search for learning rate, dropout and recurrent dropout\n"
   ]
  },
  {
   "cell_type": "code",
   "execution_count": 30,
   "metadata": {},
   "outputs": [],
   "source": [
    "\n",
    "epoch = 100\n",
    "batch_size = 128\n",
    "n_mels = 10\n",
    "n_mfcc = 4\n",
    "\n",
    "\n",
    "\n",
    "# Creating an early stopping callback\n",
    "callback = EarlyStopping(monitor='val_accuracy', patience=5, restore_best_weights=True,verbose=1)\n",
    "X_train, X_test, y_train, y_test, max_length, num_classes, classes = create_train_test(\"../assets/MFCCs/8k_train_10mels_4mfcc.pkl\",n_mels,n_mfcc,classes=classes)\n",
    "\n",
    "param_grid = {\"model__learning_rate\": [8*1e-4, 8.5*1e-4,9*1e-4],\n",
    "              \"model__dropout\": [0.16,0.18],\n",
    "              \"model__recurrent_dropout\": [0.16,0.18],\n",
    "              \"model__n_units\": [256],\n",
    "              \"model__n_mfcc\": [n_mfcc],\n",
    "              \"model__max_length\": [max_length],\n",
    "              \"model__num_classes\": [num_classes]}\n",
    "\n",
    "grid = create_halving_gridsearch(param_grid=param_grid,model_function=create_model, cv=2, factor=2, n_jobs=-1, verbose=1, validation_split=0.2, epoch=50, batch_size=124, callback=callback, min_resources=1000, max_resources=8000)\n",
    "grid_result = grid.fit(X_train, y_train)"
   ]
  },
  {
   "cell_type": "code",
   "execution_count": 20,
   "metadata": {},
   "outputs": [
    {
     "data": {
      "image/png": "[encoded data removed]",
      "text/plain": [
       "<Figure size 432x288 with 1 Axes>"
      ]
     },
     "metadata": {
      "needs_background": "light"
     },
     "output_type": "display_data"
    }
   ],
   "source": [
    "results = pd.DataFrame(grid_result.cv_results_)\n",
    "results[\"params_str\"] = results.params.apply(str)\n",
    "results.drop_duplicates(subset=(\"params_str\", \"iter\"), inplace=True)\n",
    "mean_scores = results.pivot(\n",
    "    index=\"iter\", columns=\"params_str\", values=\"mean_test_score\"\n",
    ")\n",
    "ax = mean_scores.plot(legend=False, alpha=0.6)\n",
    "\n",
    "labels = [\n",
    "    f\"iter={i}\\nn_samples={grid_result.n_resources_[i]}\\nn_candidates={grid_result.n_candidates_[i]}\"\n",
    "    for i in range(grid_result.n_iterations_)\n",
    "]\n",
    "\n",
    "ax.set_xticks(range(grid_result.n_iterations_))\n",
    "ax.set_xticklabels(labels, rotation=45, multialignment=\"left\")\n",
    "ax.set_title(\"Scores of candidates over iterations\")\n",
    "ax.set_ylabel(\"mean test score\", fontsize=15)\n",
    "ax.set_xlabel(\"iterations\", fontsize=15)\n",
    "plt.tight_layout()\n",
    "plt.show()"
   ]
  },
  {
   "cell_type": "code",
   "execution_count": 34,
   "metadata": {},
   "outputs": [
    {
     "name": "stdout",
     "output_type": "stream",
     "text": [
      "12/12 [==============================] - 0s 19ms/step\n"
     ]
    },
    {
     "data": {
      "text/plain": [
       "0.7052480230050323"
      ]
     },
     "execution_count": 34,
     "metadata": {},
     "output_type": "execute_result"
    }
   ],
   "source": [
    "results.to_csv(\"gridSrch_8k_1.csv\")\n",
    "grid_result.best_params_\n",
    "\n",
    "grid_result.best_estimator_.score(X_test, y_test)"
   ]
  },
  {
   "cell_type": "markdown",
   "metadata": {},
   "source": [
    "# Evaluating a prediction"
   ]
  },
  {
   "cell_type": "markdown",
   "metadata": {},
   "source": [
    "# Training the final model\n"
   ]
  },
  {
   "cell_type": "code",
   "execution_count": 37,
   "metadata": {},
   "outputs": [
    {
     "name": "stdout",
     "output_type": "stream",
     "text": [
      "Model: \"sequential_12\"\n",
      "_________________________________________________________________\n",
      " Layer (type)                Output Shape              Param #   \n",
      "=================================================================\n",
      " masking_12 (Masking)        (None, 4, 581)            0         \n",
      "                                                                 \n",
      " lstm_12 (LSTM)              (None, 128)               363520    \n",
      "                                                                 \n",
      " dense_12 (Dense)            (None, 6)                 774       \n",
      "                                                                 \n",
      "=================================================================\n",
      "Total params: 364,294\n",
      "Trainable params: 364,294\n",
      "Non-trainable params: 0\n",
      "_________________________________________________________________\n"
     ]
    }
   ],
   "source": [
    "from pickle import load\n",
    "import numpy as np\n",
    "import tensorflow as tf\n",
    "\n",
    "classes = [\"yes\", \"no\", \"one\", \"two\", \"three\", \"four\"]\n",
    "\n",
    "\n",
    "X_train, X_test, y_train, y_test, max_length, num_classes, classes = create_train_test(\"../assets/MFCCs/8k_train_10mels_4mfcc.pkl\",10,4,classes)\n",
    "\n",
    "epoch = 100\n",
    "batch_size = 32\n",
    "validation_split = 0.1\n",
    "callback = tf.keras.callbacks.EarlyStopping(monitor='val_accuracy', patience=7, restore_best_weights=True,verbose=1)\n",
    "\n",
    "model = create_model(learning_rate=8*1e-4,dropout=0.18,recurrent_dropout=0.18,max_length=max_length,num_classes=num_classes,n_mfcc=4)\n",
    "model.summary()"
   ]
  },
  {
   "cell_type": "code",
   "execution_count": 44,
   "metadata": {},
   "outputs": [
    {
     "data": {
      "image/png": "[encoded data removed]",
      "text/plain": [
       "<IPython.core.display.Image object>"
      ]
     },
     "execution_count": 44,
     "metadata": {},
     "output_type": "execute_result"
    }
   ],
   "source": [
    "import keras.utils\n",
    "\n",
    "keras.utils.plot_model(\n",
    "    model,\n",
    "    show_shapes=True,\n",
    "    show_dtype=True,\n",
    "    show_layer_names=True,\n",
    ")"
   ]
  },
  {
   "cell_type": "code",
   "execution_count": 38,
   "metadata": {},
   "outputs": [
    {
     "name": "stdout",
     "output_type": "stream",
     "text": [
      "Epoch 1/100\n",
      "352/352 [==============================] - 10s 19ms/step - loss: 1.5614 - accuracy: 0.3634 - val_loss: 1.3571 - val_accuracy: 0.4948\n",
      "Epoch 2/100\n",
      "352/352 [==============================] - 6s 18ms/step - loss: 1.2942 - accuracy: 0.5031 - val_loss: 1.2083 - val_accuracy: 0.5340\n",
      "Epoch 3/100\n",
      "352/352 [==============================] - 6s 18ms/step - loss: 1.1756 - accuracy: 0.5555 - val_loss: 1.1531 - val_accuracy: 0.5572\n",
      "Epoch 4/100\n",
      "352/352 [==============================] - 6s 18ms/step - loss: 1.0832 - accuracy: 0.5934 - val_loss: 1.0687 - val_accuracy: 0.6003\n",
      "Epoch 5/100\n",
      "352/352 [==============================] - 6s 18ms/step - loss: 0.9962 - accuracy: 0.6303 - val_loss: 1.0467 - val_accuracy: 0.6211\n",
      "Epoch 6/100\n",
      "352/352 [==============================] - 6s 18ms/step - loss: 0.9629 - accuracy: 0.6430 - val_loss: 1.0089 - val_accuracy: 0.6147\n",
      "Epoch 7/100\n",
      "352/352 [==============================] - 6s 18ms/step - loss: 0.9192 - accuracy: 0.6621 - val_loss: 0.9976 - val_accuracy: 0.6307\n",
      "Epoch 8/100\n",
      "352/352 [==============================] - 6s 18ms/step - loss: 0.8812 - accuracy: 0.6744 - val_loss: 0.9758 - val_accuracy: 0.6259\n",
      "Epoch 9/100\n",
      "352/352 [==============================] - 6s 18ms/step - loss: 0.8371 - accuracy: 0.6905 - val_loss: 0.9707 - val_accuracy: 0.6371\n",
      "Epoch 10/100\n",
      "352/352 [==============================] - 6s 18ms/step - loss: 0.8070 - accuracy: 0.7045 - val_loss: 0.9818 - val_accuracy: 0.6379\n",
      "Epoch 11/100\n",
      "352/352 [==============================] - 6s 18ms/step - loss: 0.7881 - accuracy: 0.7130 - val_loss: 0.9657 - val_accuracy: 0.6611\n",
      "Epoch 12/100\n",
      "352/352 [==============================] - 6s 18ms/step - loss: 0.7550 - accuracy: 0.7256 - val_loss: 0.9727 - val_accuracy: 0.6331\n",
      "Epoch 13/100\n",
      "352/352 [==============================] - 6s 18ms/step - loss: 0.7262 - accuracy: 0.7359 - val_loss: 0.9387 - val_accuracy: 0.6659\n",
      "Epoch 14/100\n",
      "352/352 [==============================] - 6s 18ms/step - loss: 0.7177 - accuracy: 0.7417 - val_loss: 0.9165 - val_accuracy: 0.6739\n",
      "Epoch 15/100\n",
      "352/352 [==============================] - 6s 18ms/step - loss: 0.6889 - accuracy: 0.7482 - val_loss: 0.9276 - val_accuracy: 0.6571\n",
      "Epoch 16/100\n",
      "352/352 [==============================] - 6s 18ms/step - loss: 0.6968 - accuracy: 0.7459 - val_loss: 0.9749 - val_accuracy: 0.6563\n",
      "Epoch 17/100\n",
      "352/352 [==============================] - 6s 18ms/step - loss: 0.6849 - accuracy: 0.7478 - val_loss: 0.9425 - val_accuracy: 0.6515\n",
      "Epoch 18/100\n",
      "352/352 [==============================] - 6s 18ms/step - loss: 0.6618 - accuracy: 0.7593 - val_loss: 0.9602 - val_accuracy: 0.6539\n",
      "Epoch 19/100\n",
      "352/352 [==============================] - 6s 18ms/step - loss: 0.6572 - accuracy: 0.7610 - val_loss: 0.9411 - val_accuracy: 0.6579\n",
      "Epoch 20/100\n",
      "352/352 [==============================] - 6s 18ms/step - loss: 0.6312 - accuracy: 0.7734 - val_loss: 0.9497 - val_accuracy: 0.6579\n",
      "Epoch 21/100\n",
      "350/352 [============================>.] - ETA: 0s - loss: 0.6092 - accuracy: 0.7772Restoring model weights from the end of the best epoch: 14.\n",
      "352/352 [==============================] - 6s 18ms/step - loss: 0.6088 - accuracy: 0.7774 - val_loss: 0.9263 - val_accuracy: 0.6643\n",
      "Epoch 21: early stopping\n"
     ]
    },
    {
     "data": {
      "text/plain": [
       "<keras.callbacks.History at 0x26eb43dcd30>"
      ]
     },
     "execution_count": 38,
     "metadata": {},
     "output_type": "execute_result"
    }
   ],
   "source": [
    "model.fit(X_train, y_train, epochs=epoch, batch_size=batch_size, validation_split=validation_split,callbacks=[callback],verbose=1)"
   ]
  },
  {
   "cell_type": "code",
   "execution_count": 40,
   "metadata": {},
   "outputs": [],
   "source": [
    "model.save(\"lstm_20_5_8k_opti.h5\")\n"
   ]
  },
  {
   "cell_type": "code",
   "execution_count": 39,
   "metadata": {},
   "outputs": [
    {
     "name": "stdout",
     "output_type": "stream",
     "text": [
      "44/44 [==============================] - 0s 7ms/step - loss: 1.0118 - accuracy: 0.6226\n"
     ]
    },
    {
     "data": {
      "text/plain": [
       "[1.0118408203125, 0.6225736737251282]"
      ]
     },
     "execution_count": 39,
     "metadata": {},
     "output_type": "execute_result"
    }
   ],
   "source": [
    "model.evaluate(X_test, y_test)\n"
   ]
  },
  {
   "cell_type": "markdown",
   "metadata": {},
   "source": [
    "# Display the confusion matrix"
   ]
  },
  {
   "cell_type": "code",
   "execution_count": 43,
   "metadata": {},
   "outputs": [
    {
     "name": "stdout",
     "output_type": "stream",
     "text": [
      "44/44 [==============================] - 1s 7ms/step\n"
     ]
    },
    {
     "data": {
      "text/plain": [
       "<sklearn.metrics._plot.confusion_matrix.ConfusionMatrixDisplay at 0x26eb27a6a60>"
      ]
     },
     "execution_count": 43,
     "metadata": {},
     "output_type": "execute_result"
    },
    {
     "data": {
      "image/png": "[encoded data removed]",
      "text/plain": [
       "<Figure size 432x288 with 2 Axes>"
      ]
     },
     "metadata": {
      "needs_background": "light"
     },
     "output_type": "display_data"
    }
   ],
   "source": [
    "from sklearn.metrics import confusion_matrix, ConfusionMatrixDisplay\n",
    "from keras.models import load_model\n",
    "\n",
    "model = load_model(\"lstm_20_5_8k_opti.h5\")\n",
    "#Predict\n",
    "y_prediction = model.predict(X_test)\n",
    "y_prediction = np.argmax(y_prediction,axis=1)\n",
    "# y_test = np.argmax(y_test,axis=1)\n",
    "# Create confusion matrix and normalizes it over predicted (columns)\n",
    "result = confusion_matrix(np.argmax(y_test,axis=1), y_prediction, normalize='pred')\n",
    "ConfusionMatrixDisplay(result, display_labels=classes).plot()"
   ]
  },
  {
   "cell_type": "markdown",
   "metadata": {},
   "source": [
    "# Predict correct label"
   ]
  },
  {
   "cell_type": "code",
   "execution_count": null,
   "metadata": {},
   "outputs": [],
   "source": [
    "from keras.models import load_model\n",
    "\n",
    "\n",
    "classes = [\"yes\", \"no\", \"one\", \"two\", \"three\", \"four\"]\n",
    "n_mel = 20\n",
    "n_mfcc = 13\n",
    "max_length = 422\n",
    "\n",
    "\n",
    "\n",
    "\n",
    "\n",
    "print(predict_result_lstm(\"./sounds/yes_1675445508552.wav\",\n",
    "      classes, \"lstm_20_5\",422))\n"
   ]
  },
  {
   "cell_type": "markdown",
   "metadata": {},
   "source": [
    "# Add my personal database\n"
   ]
  },
  {
   "cell_type": "code",
   "execution_count": null,
   "metadata": {},
   "outputs": [
    {
     "data": {
      "text/html": [
       "<div>\n",
       "<style scoped>\n",
       "    .dataframe tbody tr th:only-of-type {\n",
       "        vertical-align: middle;\n",
       "    }\n",
       "\n",
       "    .dataframe tbody tr th {\n",
       "        vertical-align: top;\n",
       "    }\n",
       "\n",
       "    .dataframe thead th {\n",
       "        text-align: right;\n",
       "    }\n",
       "</style>\n",
       "<table border=\"1\" class=\"dataframe\">\n",
       "  <thead>\n",
       "    <tr style=\"text-align: right;\">\n",
       "      <th></th>\n",
       "      <th>file</th>\n",
       "      <th>sentence</th>\n",
       "    </tr>\n",
       "  </thead>\n",
       "  <tbody>\n",
       "    <tr>\n",
       "      <th>0</th>\n",
       "      <td>one (2).wav</td>\n",
       "      <td>one</td>\n",
       "    </tr>\n",
       "    <tr>\n",
       "      <th>1</th>\n",
       "      <td>one (3).wav</td>\n",
       "      <td>one</td>\n",
       "    </tr>\n",
       "    <tr>\n",
       "      <th>2</th>\n",
       "      <td>one (4).wav</td>\n",
       "      <td>one</td>\n",
       "    </tr>\n",
       "    <tr>\n",
       "      <th>3</th>\n",
       "      <td>one (5).wav</td>\n",
       "      <td>one</td>\n",
       "    </tr>\n",
       "    <tr>\n",
       "      <th>4</th>\n",
       "      <td>one (6).wav</td>\n",
       "      <td>one</td>\n",
       "    </tr>\n",
       "    <tr>\n",
       "      <th>...</th>\n",
       "      <td>...</td>\n",
       "      <td>...</td>\n",
       "    </tr>\n",
       "    <tr>\n",
       "      <th>75</th>\n",
       "      <td>four (17).wav</td>\n",
       "      <td>four</td>\n",
       "    </tr>\n",
       "    <tr>\n",
       "      <th>76</th>\n",
       "      <td>four (18).wav</td>\n",
       "      <td>four</td>\n",
       "    </tr>\n",
       "    <tr>\n",
       "      <th>77</th>\n",
       "      <td>four (19).wav</td>\n",
       "      <td>four</td>\n",
       "    </tr>\n",
       "    <tr>\n",
       "      <th>78</th>\n",
       "      <td>four (20).wav</td>\n",
       "      <td>four</td>\n",
       "    </tr>\n",
       "    <tr>\n",
       "      <th>79</th>\n",
       "      <td>four (21).wav</td>\n",
       "      <td>four</td>\n",
       "    </tr>\n",
       "  </tbody>\n",
       "</table>\n",
       "<p>80 rows × 2 columns</p>\n",
       "</div>"
      ],
      "text/plain": [
       "             file sentence\n",
       "0     one (2).wav      one\n",
       "1     one (3).wav      one\n",
       "2     one (4).wav      one\n",
       "3     one (5).wav      one\n",
       "4     one (6).wav      one\n",
       "..            ...      ...\n",
       "75  four (17).wav     four\n",
       "76  four (18).wav     four\n",
       "77  four (19).wav     four\n",
       "78  four (20).wav     four\n",
       "79  four (21).wav     four\n",
       "\n",
       "[80 rows x 2 columns]"
      ]
     },
     "execution_count": 21,
     "metadata": {},
     "output_type": "execute_result"
    }
   ],
   "source": [
    "import pandas as pd\n",
    "\n",
    "df = pd.read_csv(\"./sounds/rahim/rahim.csv\", sep=\";\")\n"
   ]
  },
  {
   "cell_type": "code",
   "execution_count": 45,
   "metadata": {},
   "outputs": [
    {
     "name": "stdout",
     "output_type": "stream",
     "text": [
      "5/5 [==============================] - 0s 7ms/step\n"
     ]
    },
    {
     "data": {
      "text/plain": [
       "<sklearn.metrics._plot.confusion_matrix.ConfusionMatrixDisplay at 0x26eb1ee80a0>"
      ]
     },
     "execution_count": 45,
     "metadata": {},
     "output_type": "execute_result"
    },
    {
     "data": {
      "image/png": "[encoded data removed]",
      "text/plain": [
       "<Figure size 432x288 with 2 Axes>"
      ]
     },
     "metadata": {
      "needs_background": "light"
     },
     "output_type": "display_data"
    }
   ],
   "source": [
    "from keras.utils import to_categorical\n",
    "from sklearn.model_selection import train_test_split\n",
    "\n",
    "import os\n",
    "from pickle import *\n",
    "import numpy as np\n",
    "\n",
    "classes = [\"yes\", \"no\", \"one\", \"two\", \"three\", \"four\"]\n",
    "\n",
    "\n",
    "def load_and_padding(path,max_length, n_mfcc):\n",
    "    with open(path, \"rb\") as f:\n",
    "        X = load(f)\n",
    "        y = load(f)\n",
    "\n",
    "    # max_length = max([len(X[i][0]) for i in range(len(X))])\n",
    "    x = np.empty((len(X), n_mfcc, max_length))\n",
    "    for i in range(len(X)):\n",
    "        for j in range(len(X[i])):\n",
    "            x[i][j] = np.pad(X[i][j], (0, max_length - len(X[i][j])))\n",
    "    x = np.array(x).reshape((-1, n_mfcc, max_length))\n",
    "    \n",
    "    # Create a mask array to store the length of each padded signal\n",
    "    X_mask = np.zeros((x.shape[0], max_length), dtype=bool)\n",
    "    for i in range(x.shape[0]):\n",
    "        length = len(X[i][0])\n",
    "        X_mask[i, :length] = True\n",
    "    \n",
    "    return x, y, max_length, X_mask\n",
    "\n",
    "def create_test(file_path,n_mels,n_mfcc,classes): \n",
    "    '''Creates train and test sets from the data in the file_path.'''  \n",
    "    X, y, max_length, X_mask = load_and_padding(file_path,581, n_mfcc=n_mfcc)\n",
    "    num_classes = len(classes)\n",
    "    y = [classes.index(x) for x in y]\n",
    "    y = to_categorical(y, num_classes)\n",
    "    return X, y, max_length, num_classes, classes\n",
    "\n",
    "X, y, max_length, num_classes, classes = create_test(\"../assets/MFCCs/rahim_mfcc_10_4.pkl\",10,4,classes)\n",
    "y_prediction = model.predict(X)\n",
    "y_prediction = np.argmax(y_prediction,axis=1)\n",
    "\n",
    "# Create confusion matrix and normalizes it over predicted (columns)\n",
    "result = confusion_matrix(np.argmax(y,axis=1), y_prediction, normalize='pred')\n",
    "ConfusionMatrixDisplay(result, display_labels=classes).plot()"
   ]
  },
  {
   "cell_type": "markdown",
   "metadata": {},
   "source": [
    "# Training model for yes or no "
   ]
  },
  {
   "attachments": {},
   "cell_type": "markdown",
   "metadata": {},
   "source": [
    "### Yes No LSTM Model Train"
   ]
  },
  {
   "attachments": {},
   "cell_type": "markdown",
   "metadata": {},
   "source": [
    "### Load"
   ]
  },
  {
   "cell_type": "code",
   "execution_count": 47,
   "metadata": {},
   "outputs": [],
   "source": [
    "import os\n",
    "import pandas as pd\n",
    "from pickle import *\n",
    "import numpy as np\n",
    "\n",
    "classes = [\"yes\", \"no\"]\n",
    "#16k_train_20mels_5mfcc.pkl\n",
    "with open(\"../assets/MFCCs/8k_train_10mels_4mfcc.pkl\", \"rb\") as f:\n",
    "    X = load(f)\n",
    "    y = load(f)\n",
    "\n"
   ]
  },
  {
   "attachments": {},
   "cell_type": "markdown",
   "metadata": {},
   "source": [
    "### X and y with yes and no"
   ]
  },
  {
   "cell_type": "code",
   "execution_count": 57,
   "metadata": {},
   "outputs": [
    {
     "name": "stdout",
     "output_type": "stream",
     "text": [
      "4868\n",
      "4868\n"
     ]
    }
   ],
   "source": [
    "y = np.array(y)\n",
    "\n",
    "indices_yes_no = np.where(((y == 'no') | (y == 'yes')) )\n",
    "X_yes_no = [X[i] for i in indices_yes_no[0]]\n",
    "y_yes_no = [y[i] for i in indices_yes_no[0]]\n",
    "# print(len(X_yes_no))\n",
    "# print(len(y_yes_no))\n",
    "\n"
   ]
  },
  {
   "attachments": {},
   "cell_type": "markdown",
   "metadata": {},
   "source": [
    "### On va modifier la fonction pour le prendre en compte"
   ]
  },
  {
   "cell_type": "code",
   "execution_count": 58,
   "metadata": {},
   "outputs": [],
   "source": [
    "def load_and_padding_yes_no(path, n_mfcc):\n",
    "    with open(path, \"rb\") as f:\n",
    "        X = load(f)\n",
    "        y = load(f)\n",
    "    y = np.array(y)\n",
    "    \n",
    "    indices_yes_no = np.where(((y == 'no') | (y == 'yes')) )\n",
    "    X = [X[i] for i in indices_yes_no[0]]\n",
    "    y = [y[i] for i in indices_yes_no[0]]\n",
    "\n",
    "\n",
    "    max_length = max([len(X[i][0]) for i in range(len(X))])\n",
    "    x = np.empty((len(X), n_mfcc, max_length))\n",
    "    for i in range(len(X)):\n",
    "        for j in range(len(X[i])):\n",
    "            x[i][j] = np.pad(X[i][j], (0, max_length - len(X[i][j])))\n",
    "    x = np.array(x).reshape((-1, n_mfcc, max_length))\n",
    "    \n",
    "    # Create a mask array to store the length of each padded signal\n",
    "    X_mask = np.zeros((x.shape[0], max_length), dtype=bool)\n",
    "    for i in range(x.shape[0]):\n",
    "        length = len(X[i][0])\n",
    "        X_mask[i, :length] = True\n",
    "    \n",
    "    return x, y, max_length, X_mask"
   ]
  },
  {
   "cell_type": "code",
   "execution_count": 71,
   "metadata": {},
   "outputs": [],
   "source": [
    "path = \"../assets/MFCCs/8k_train_10mels_4mfcc.pkl\"\n",
    "n_mfcc = 4\n",
    "X, y, max_length, X_mask = load_and_padding_yes_no(path, n_mfcc)\n"
   ]
  },
  {
   "cell_type": "code",
   "execution_count": 70,
   "metadata": {},
   "outputs": [
    {
     "ename": "TypeError",
     "evalue": "'int' object is not subscriptable",
     "output_type": "error",
     "traceback": [
      "\u001b[1;31m---------------------------------------------------------------------------\u001b[0m",
      "\u001b[1;31mTypeError\u001b[0m                                 Traceback (most recent call last)",
      "\u001b[1;32m<ipython-input-70-ba576ab137fa>\u001b[0m in \u001b[0;36m<module>\u001b[1;34m\u001b[0m\n\u001b[1;32m----> 1\u001b[1;33m \u001b[0mmax\u001b[0m\u001b[1;33m(\u001b[0m\u001b[0mlen\u001b[0m\u001b[1;33m(\u001b[0m\u001b[0mX\u001b[0m\u001b[1;33m)\u001b[0m\u001b[1;33m[\u001b[0m\u001b[1;33m:\u001b[0m\u001b[1;33m]\u001b[0m\u001b[1;33m)\u001b[0m\u001b[1;33m\u001b[0m\u001b[1;33m\u001b[0m\u001b[0m\n\u001b[0m",
      "\u001b[1;31mTypeError\u001b[0m: 'int' object is not subscriptable"
     ]
    }
   ],
   "source": [
    "print(y)"
   ]
  },
  {
   "attachments": {},
   "cell_type": "markdown",
   "metadata": {},
   "source": [
    "### Splitting data"
   ]
  },
  {
   "cell_type": "code",
   "execution_count": 72,
   "metadata": {},
   "outputs": [],
   "source": [
    "import keras\n",
    "from keras.models import Sequential\n",
    "from keras.layers import LSTM, Dense\n",
    "from sklearn.model_selection import train_test_split\n",
    "import tensorflow as tf\n",
    "from keras.utils import to_categorical\n",
    "\n",
    "# Load the data into a pandas DataFrame\n",
    "import pandas as pd\n",
    "\n",
    "# Split the data into training and test sets\n",
    "X_train, X_test, y_train, y_test = train_test_split(X, y,  test_size=0.1, random_state=42)"
   ]
  },
  {
   "cell_type": "code",
   "execution_count": 73,
   "metadata": {},
   "outputs": [],
   "source": [
    "num_classes=len(classes)\n",
    "y_train = [classes.index(x) for x in y_train]\n",
    "y_train = to_categorical(y_train, num_classes)\n",
    "y_test = [classes.index(x) for x in y_test]\n",
    "y_test = to_categorical(y_test, num_classes)"
   ]
  },
  {
   "attachments": {},
   "cell_type": "markdown",
   "metadata": {},
   "source": [
    "### Training the model with the selected hyperparameters"
   ]
  },
  {
   "cell_type": "code",
   "execution_count": 85,
   "metadata": {},
   "outputs": [],
   "source": [
    "learning_rate = 6*1e-4\n",
    "epoch = 100\n",
    "batch_size = 16\n",
    "validation_split = 0.1\n",
    "dropout = 0.185\n",
    "recurrent_dropout = 0.185\n",
    "histories = []\n",
    "test_accuracies = []\n",
    "\n",
    "model = create_model(learning_rate, dropout,recurrent_dropout,4, max_length, num_classes=2)"
   ]
  },
  {
   "cell_type": "code",
   "execution_count": 90,
   "metadata": {},
   "outputs": [
    {
     "name": "stdout",
     "output_type": "stream",
     "text": [
      "Epoch 1/100\n",
      "247/247 [==============================] - 4s 16ms/step - loss: 0.1124 - accuracy: 0.9597 - val_loss: 0.2579 - val_accuracy: 0.9157\n",
      "Epoch 2/100\n",
      "247/247 [==============================] - 4s 16ms/step - loss: 0.1017 - accuracy: 0.9642 - val_loss: 0.2468 - val_accuracy: 0.9134\n",
      "Epoch 3/100\n",
      "247/247 [==============================] - 4s 16ms/step - loss: 0.1029 - accuracy: 0.9658 - val_loss: 0.2555 - val_accuracy: 0.9021\n",
      "Epoch 4/100\n",
      "247/247 [==============================] - 4s 15ms/step - loss: 0.0803 - accuracy: 0.9744 - val_loss: 0.2862 - val_accuracy: 0.8998\n",
      "Epoch 5/100\n",
      "247/247 [==============================] - 4s 16ms/step - loss: 0.0812 - accuracy: 0.9729 - val_loss: 0.2716 - val_accuracy: 0.9043\n",
      "Epoch 6/100\n",
      "247/247 [==============================] - 4s 16ms/step - loss: 0.0765 - accuracy: 0.9708 - val_loss: 0.2752 - val_accuracy: 0.9112\n",
      "Epoch 7/100\n",
      "247/247 [==============================] - 4s 16ms/step - loss: 0.0743 - accuracy: 0.9782 - val_loss: 0.2731 - val_accuracy: 0.9134\n",
      "Epoch 8/100\n",
      "244/247 [============================>.] - ETA: 0s - loss: 0.0849 - accuracy: 0.9675Restoring model weights from the end of the best epoch: 1.\n",
      "247/247 [==============================] - 4s 16ms/step - loss: 0.0857 - accuracy: 0.9673 - val_loss: 0.2505 - val_accuracy: 0.9021\n",
      "Epoch 8: early stopping\n"
     ]
    },
    {
     "data": {
      "text/plain": [
       "<keras.callbacks.History at 0x26eb1b24880>"
      ]
     },
     "execution_count": 90,
     "metadata": {},
     "output_type": "execute_result"
    }
   ],
   "source": [
    "model.fit(X_train, y_train, epochs=epoch, batch_size=batch_size,validation_split=validation_split, use_multiprocessing=True, callbacks=[callback],verbose=1)"
   ]
  },
  {
   "cell_type": "code",
   "execution_count": null,
   "metadata": {},
   "outputs": [],
   "source": [
    "model.save(\"lstm_20_5_8k_opti_yes_no.h5\")\n"
   ]
  },
  {
   "cell_type": "code",
   "execution_count": 91,
   "metadata": {},
   "outputs": [
    {
     "name": "stdout",
     "output_type": "stream",
     "text": [
      "16/16 [==============================] - 0s 10ms/step - loss: 0.2448 - accuracy: 0.8891\n"
     ]
    },
    {
     "data": {
      "text/plain": [
       "[0.24476349353790283, 0.8891170620918274]"
      ]
     },
     "execution_count": 91,
     "metadata": {},
     "output_type": "execute_result"
    }
   ],
   "source": [
    "model.evaluate(X_test, y_test)\n"
   ]
  },
  {
   "cell_type": "code",
   "execution_count": 94,
   "metadata": {},
   "outputs": [
    {
     "name": "stdout",
     "output_type": "stream",
     "text": [
      "16/16 [==============================] - 1s 10ms/step\n"
     ]
    },
    {
     "ename": "ValueError",
     "evalue": "The number of FixedLocator locations (2), usually from a call to set_ticks, does not match the number of ticklabels (6).",
     "output_type": "error",
     "traceback": [
      "\u001b[1;31m---------------------------------------------------------------------------\u001b[0m",
      "\u001b[1;31mValueError\u001b[0m                                Traceback (most recent call last)",
      "\u001b[1;32m<ipython-input-94-562315d91845>\u001b[0m in \u001b[0;36m<module>\u001b[1;34m\u001b[0m\n\u001b[0;32m      9\u001b[0m \u001b[1;31m# Create confusion matrix and normalizes it over predicted (columns)\u001b[0m\u001b[1;33m\u001b[0m\u001b[1;33m\u001b[0m\u001b[0m\n\u001b[0;32m     10\u001b[0m \u001b[0mresult\u001b[0m \u001b[1;33m=\u001b[0m \u001b[0mconfusion_matrix\u001b[0m\u001b[1;33m(\u001b[0m\u001b[0mnp\u001b[0m\u001b[1;33m.\u001b[0m\u001b[0margmax\u001b[0m\u001b[1;33m(\u001b[0m\u001b[0my_test\u001b[0m\u001b[1;33m,\u001b[0m\u001b[0maxis\u001b[0m\u001b[1;33m=\u001b[0m\u001b[1;36m1\u001b[0m\u001b[1;33m)\u001b[0m\u001b[1;33m,\u001b[0m \u001b[0my_prediction\u001b[0m\u001b[1;33m,\u001b[0m \u001b[0mnormalize\u001b[0m\u001b[1;33m=\u001b[0m\u001b[1;34m'pred'\u001b[0m\u001b[1;33m)\u001b[0m\u001b[1;33m\u001b[0m\u001b[1;33m\u001b[0m\u001b[0m\n\u001b[1;32m---> 11\u001b[1;33m \u001b[0mConfusionMatrixDisplay\u001b[0m\u001b[1;33m(\u001b[0m\u001b[0mresult\u001b[0m\u001b[1;33m,\u001b[0m \u001b[0mdisplay_labels\u001b[0m\u001b[1;33m=\u001b[0m\u001b[0mclasses\u001b[0m\u001b[1;33m)\u001b[0m\u001b[1;33m.\u001b[0m\u001b[0mplot\u001b[0m\u001b[1;33m(\u001b[0m\u001b[1;33m)\u001b[0m\u001b[1;33m\u001b[0m\u001b[1;33m\u001b[0m\u001b[0m\n\u001b[0m",
      "\u001b[1;32mc:\\Users\\rahim\\anaconda3\\envs\\pytorch\\lib\\site-packages\\sklearn\\metrics\\_plot\\confusion_matrix.py\u001b[0m in \u001b[0;36mplot\u001b[1;34m(self, include_values, cmap, xticks_rotation, values_format, ax, colorbar, im_kw, text_kw)\u001b[0m\n\u001b[0;32m    179\u001b[0m         \u001b[1;32mif\u001b[0m \u001b[0mcolorbar\u001b[0m\u001b[1;33m:\u001b[0m\u001b[1;33m\u001b[0m\u001b[1;33m\u001b[0m\u001b[0m\n\u001b[0;32m    180\u001b[0m             \u001b[0mfig\u001b[0m\u001b[1;33m.\u001b[0m\u001b[0mcolorbar\u001b[0m\u001b[1;33m(\u001b[0m\u001b[0mself\u001b[0m\u001b[1;33m.\u001b[0m\u001b[0mim_\u001b[0m\u001b[1;33m,\u001b[0m \u001b[0max\u001b[0m\u001b[1;33m=\u001b[0m\u001b[0max\u001b[0m\u001b[1;33m)\u001b[0m\u001b[1;33m\u001b[0m\u001b[1;33m\u001b[0m\u001b[0m\n\u001b[1;32m--> 181\u001b[1;33m         ax.set(\n\u001b[0m\u001b[0;32m    182\u001b[0m             \u001b[0mxticks\u001b[0m\u001b[1;33m=\u001b[0m\u001b[0mnp\u001b[0m\u001b[1;33m.\u001b[0m\u001b[0marange\u001b[0m\u001b[1;33m(\u001b[0m\u001b[0mn_classes\u001b[0m\u001b[1;33m)\u001b[0m\u001b[1;33m,\u001b[0m\u001b[1;33m\u001b[0m\u001b[1;33m\u001b[0m\u001b[0m\n\u001b[0;32m    183\u001b[0m             \u001b[0myticks\u001b[0m\u001b[1;33m=\u001b[0m\u001b[0mnp\u001b[0m\u001b[1;33m.\u001b[0m\u001b[0marange\u001b[0m\u001b[1;33m(\u001b[0m\u001b[0mn_classes\u001b[0m\u001b[1;33m)\u001b[0m\u001b[1;33m,\u001b[0m\u001b[1;33m\u001b[0m\u001b[1;33m\u001b[0m\u001b[0m\n",
      "\u001b[1;32mc:\\Users\\rahim\\anaconda3\\envs\\pytorch\\lib\\site-packages\\matplotlib\\artist.py\u001b[0m in \u001b[0;36m<lambda>\u001b[1;34m(self, **kwargs)\u001b[0m\n\u001b[0;32m    115\u001b[0m             \u001b[1;32mreturn\u001b[0m\u001b[1;33m\u001b[0m\u001b[1;33m\u001b[0m\u001b[0m\n\u001b[0;32m    116\u001b[0m \u001b[1;33m\u001b[0m\u001b[0m\n\u001b[1;32m--> 117\u001b[1;33m         \u001b[0mcls\u001b[0m\u001b[1;33m.\u001b[0m\u001b[0mset\u001b[0m \u001b[1;33m=\u001b[0m \u001b[1;32mlambda\u001b[0m \u001b[0mself\u001b[0m\u001b[1;33m,\u001b[0m \u001b[1;33m**\u001b[0m\u001b[0mkwargs\u001b[0m\u001b[1;33m:\u001b[0m \u001b[0mArtist\u001b[0m\u001b[1;33m.\u001b[0m\u001b[0mset\u001b[0m\u001b[1;33m(\u001b[0m\u001b[0mself\u001b[0m\u001b[1;33m,\u001b[0m \u001b[1;33m**\u001b[0m\u001b[0mkwargs\u001b[0m\u001b[1;33m)\u001b[0m\u001b[1;33m\u001b[0m\u001b[1;33m\u001b[0m\u001b[0m\n\u001b[0m\u001b[0;32m    118\u001b[0m         \u001b[0mcls\u001b[0m\u001b[1;33m.\u001b[0m\u001b[0mset\u001b[0m\u001b[1;33m.\u001b[0m\u001b[0m__name__\u001b[0m \u001b[1;33m=\u001b[0m \u001b[1;34m\"set\"\u001b[0m\u001b[1;33m\u001b[0m\u001b[1;33m\u001b[0m\u001b[0m\n\u001b[0;32m    119\u001b[0m         \u001b[0mcls\u001b[0m\u001b[1;33m.\u001b[0m\u001b[0mset\u001b[0m\u001b[1;33m.\u001b[0m\u001b[0m__qualname__\u001b[0m \u001b[1;33m=\u001b[0m \u001b[1;34mf\"{cls.__qualname__}.set\"\u001b[0m\u001b[1;33m\u001b[0m\u001b[1;33m\u001b[0m\u001b[0m\n",
      "\u001b[1;32mc:\\Users\\rahim\\anaconda3\\envs\\pytorch\\lib\\site-packages\\matplotlib\\artist.py\u001b[0m in \u001b[0;36mset\u001b[1;34m(self, **kwargs)\u001b[0m\n\u001b[0;32m   1192\u001b[0m         \u001b[1;31m# Artist._update_set_signature_and_docstring() at the end of the\u001b[0m\u001b[1;33m\u001b[0m\u001b[1;33m\u001b[0m\u001b[0m\n\u001b[0;32m   1193\u001b[0m         \u001b[1;31m# module.\u001b[0m\u001b[1;33m\u001b[0m\u001b[1;33m\u001b[0m\u001b[0m\n\u001b[1;32m-> 1194\u001b[1;33m         \u001b[1;32mreturn\u001b[0m \u001b[0mself\u001b[0m\u001b[1;33m.\u001b[0m\u001b[0m_internal_update\u001b[0m\u001b[1;33m(\u001b[0m\u001b[0mcbook\u001b[0m\u001b[1;33m.\u001b[0m\u001b[0mnormalize_kwargs\u001b[0m\u001b[1;33m(\u001b[0m\u001b[0mkwargs\u001b[0m\u001b[1;33m,\u001b[0m \u001b[0mself\u001b[0m\u001b[1;33m)\u001b[0m\u001b[1;33m)\u001b[0m\u001b[1;33m\u001b[0m\u001b[1;33m\u001b[0m\u001b[0m\n\u001b[0m\u001b[0;32m   1195\u001b[0m \u001b[1;33m\u001b[0m\u001b[0m\n\u001b[0;32m   1196\u001b[0m     \u001b[1;33m@\u001b[0m\u001b[0mcontextlib\u001b[0m\u001b[1;33m.\u001b[0m\u001b[0mcontextmanager\u001b[0m\u001b[1;33m\u001b[0m\u001b[1;33m\u001b[0m\u001b[0m\n",
      "\u001b[1;32mc:\\Users\\rahim\\anaconda3\\envs\\pytorch\\lib\\site-packages\\matplotlib\\artist.py\u001b[0m in \u001b[0;36m_internal_update\u001b[1;34m(self, kwargs)\u001b[0m\n\u001b[0;32m   1184\u001b[0m         \u001b[0mThe\u001b[0m \u001b[0mlack\u001b[0m \u001b[0mof\u001b[0m \u001b[0mprenormalization\u001b[0m \u001b[1;32mis\u001b[0m \u001b[0mto\u001b[0m \u001b[0mmaintain\u001b[0m \u001b[0mbackcompatibility\u001b[0m\u001b[1;33m.\u001b[0m\u001b[1;33m\u001b[0m\u001b[1;33m\u001b[0m\u001b[0m\n\u001b[0;32m   1185\u001b[0m         \"\"\"\n\u001b[1;32m-> 1186\u001b[1;33m         return self._update_props(\n\u001b[0m\u001b[0;32m   1187\u001b[0m             \u001b[0mkwargs\u001b[0m\u001b[1;33m,\u001b[0m \u001b[1;34m\"{cls.__name__}.set() got an unexpected keyword argument \"\u001b[0m\u001b[1;33m\u001b[0m\u001b[1;33m\u001b[0m\u001b[0m\n\u001b[0;32m   1188\u001b[0m             \"{prop_name!r}\")\n",
      "\u001b[1;32mc:\\Users\\rahim\\anaconda3\\envs\\pytorch\\lib\\site-packages\\matplotlib\\artist.py\u001b[0m in \u001b[0;36m_update_props\u001b[1;34m(self, props, errfmt)\u001b[0m\n\u001b[0;32m   1160\u001b[0m                         raise AttributeError(\n\u001b[0;32m   1161\u001b[0m                             errfmt.format(cls=type(self), prop_name=k))\n\u001b[1;32m-> 1162\u001b[1;33m                     \u001b[0mret\u001b[0m\u001b[1;33m.\u001b[0m\u001b[0mappend\u001b[0m\u001b[1;33m(\u001b[0m\u001b[0mfunc\u001b[0m\u001b[1;33m(\u001b[0m\u001b[0mv\u001b[0m\u001b[1;33m)\u001b[0m\u001b[1;33m)\u001b[0m\u001b[1;33m\u001b[0m\u001b[1;33m\u001b[0m\u001b[0m\n\u001b[0m\u001b[0;32m   1163\u001b[0m         \u001b[1;32mif\u001b[0m \u001b[0mret\u001b[0m\u001b[1;33m:\u001b[0m\u001b[1;33m\u001b[0m\u001b[1;33m\u001b[0m\u001b[0m\n\u001b[0;32m   1164\u001b[0m             \u001b[0mself\u001b[0m\u001b[1;33m.\u001b[0m\u001b[0mpchanged\u001b[0m\u001b[1;33m(\u001b[0m\u001b[1;33m)\u001b[0m\u001b[1;33m\u001b[0m\u001b[1;33m\u001b[0m\u001b[0m\n",
      "\u001b[1;32mc:\\Users\\rahim\\anaconda3\\envs\\pytorch\\lib\\site-packages\\matplotlib\\axes\\_base.py\u001b[0m in \u001b[0;36mwrapper\u001b[1;34m(self, *args, **kwargs)\u001b[0m\n\u001b[0;32m     71\u001b[0m \u001b[1;33m\u001b[0m\u001b[0m\n\u001b[0;32m     72\u001b[0m         \u001b[1;32mdef\u001b[0m \u001b[0mwrapper\u001b[0m\u001b[1;33m(\u001b[0m\u001b[0mself\u001b[0m\u001b[1;33m,\u001b[0m \u001b[1;33m*\u001b[0m\u001b[0margs\u001b[0m\u001b[1;33m,\u001b[0m \u001b[1;33m**\u001b[0m\u001b[0mkwargs\u001b[0m\u001b[1;33m)\u001b[0m\u001b[1;33m:\u001b[0m\u001b[1;33m\u001b[0m\u001b[1;33m\u001b[0m\u001b[0m\n\u001b[1;32m---> 73\u001b[1;33m             \u001b[1;32mreturn\u001b[0m \u001b[0mget_method\u001b[0m\u001b[1;33m(\u001b[0m\u001b[0mself\u001b[0m\u001b[1;33m)\u001b[0m\u001b[1;33m(\u001b[0m\u001b[1;33m*\u001b[0m\u001b[0margs\u001b[0m\u001b[1;33m,\u001b[0m \u001b[1;33m**\u001b[0m\u001b[0mkwargs\u001b[0m\u001b[1;33m)\u001b[0m\u001b[1;33m\u001b[0m\u001b[1;33m\u001b[0m\u001b[0m\n\u001b[0m\u001b[0;32m     74\u001b[0m \u001b[1;33m\u001b[0m\u001b[0m\n\u001b[0;32m     75\u001b[0m         \u001b[0mwrapper\u001b[0m\u001b[1;33m.\u001b[0m\u001b[0m__module__\u001b[0m \u001b[1;33m=\u001b[0m \u001b[0mowner\u001b[0m\u001b[1;33m.\u001b[0m\u001b[0m__module__\u001b[0m\u001b[1;33m\u001b[0m\u001b[1;33m\u001b[0m\u001b[0m\n",
      "\u001b[1;32mc:\\Users\\rahim\\anaconda3\\envs\\pytorch\\lib\\site-packages\\matplotlib\\axis.py\u001b[0m in \u001b[0;36m_set_ticklabels\u001b[1;34m(self, labels, fontdict, minor, **kwargs)\u001b[0m\n\u001b[0;32m   1966\u001b[0m         \u001b[1;32mif\u001b[0m \u001b[0mfontdict\u001b[0m \u001b[1;32mis\u001b[0m \u001b[1;32mnot\u001b[0m \u001b[1;32mNone\u001b[0m\u001b[1;33m:\u001b[0m\u001b[1;33m\u001b[0m\u001b[1;33m\u001b[0m\u001b[0m\n\u001b[0;32m   1967\u001b[0m             \u001b[0mkwargs\u001b[0m\u001b[1;33m.\u001b[0m\u001b[0mupdate\u001b[0m\u001b[1;33m(\u001b[0m\u001b[0mfontdict\u001b[0m\u001b[1;33m)\u001b[0m\u001b[1;33m\u001b[0m\u001b[1;33m\u001b[0m\u001b[0m\n\u001b[1;32m-> 1968\u001b[1;33m         \u001b[1;32mreturn\u001b[0m \u001b[0mself\u001b[0m\u001b[1;33m.\u001b[0m\u001b[0mset_ticklabels\u001b[0m\u001b[1;33m(\u001b[0m\u001b[0mlabels\u001b[0m\u001b[1;33m,\u001b[0m \u001b[0mminor\u001b[0m\u001b[1;33m=\u001b[0m\u001b[0mminor\u001b[0m\u001b[1;33m,\u001b[0m \u001b[1;33m**\u001b[0m\u001b[0mkwargs\u001b[0m\u001b[1;33m)\u001b[0m\u001b[1;33m\u001b[0m\u001b[1;33m\u001b[0m\u001b[0m\n\u001b[0m\u001b[0;32m   1969\u001b[0m \u001b[1;33m\u001b[0m\u001b[0m\n\u001b[0;32m   1970\u001b[0m     \u001b[1;32mdef\u001b[0m \u001b[0m_set_tick_locations\u001b[0m\u001b[1;33m(\u001b[0m\u001b[0mself\u001b[0m\u001b[1;33m,\u001b[0m \u001b[0mticks\u001b[0m\u001b[1;33m,\u001b[0m \u001b[1;33m*\u001b[0m\u001b[1;33m,\u001b[0m \u001b[0mminor\u001b[0m\u001b[1;33m=\u001b[0m\u001b[1;32mFalse\u001b[0m\u001b[1;33m)\u001b[0m\u001b[1;33m:\u001b[0m\u001b[1;33m\u001b[0m\u001b[1;33m\u001b[0m\u001b[0m\n",
      "\u001b[1;32mc:\\Users\\rahim\\anaconda3\\envs\\pytorch\\lib\\site-packages\\matplotlib\\axis.py\u001b[0m in \u001b[0;36mset_ticklabels\u001b[1;34m(self, ticklabels, minor, **kwargs)\u001b[0m\n\u001b[0;32m   1888\u001b[0m             \u001b[1;31m# remove all tick labels, so only error for > 0 ticklabels\u001b[0m\u001b[1;33m\u001b[0m\u001b[1;33m\u001b[0m\u001b[0m\n\u001b[0;32m   1889\u001b[0m             \u001b[1;32mif\u001b[0m \u001b[0mlen\u001b[0m\u001b[1;33m(\u001b[0m\u001b[0mlocator\u001b[0m\u001b[1;33m.\u001b[0m\u001b[0mlocs\u001b[0m\u001b[1;33m)\u001b[0m \u001b[1;33m!=\u001b[0m \u001b[0mlen\u001b[0m\u001b[1;33m(\u001b[0m\u001b[0mticklabels\u001b[0m\u001b[1;33m)\u001b[0m \u001b[1;32mand\u001b[0m \u001b[0mlen\u001b[0m\u001b[1;33m(\u001b[0m\u001b[0mticklabels\u001b[0m\u001b[1;33m)\u001b[0m \u001b[1;33m!=\u001b[0m \u001b[1;36m0\u001b[0m\u001b[1;33m:\u001b[0m\u001b[1;33m\u001b[0m\u001b[1;33m\u001b[0m\u001b[0m\n\u001b[1;32m-> 1890\u001b[1;33m                 raise ValueError(\n\u001b[0m\u001b[0;32m   1891\u001b[0m                     \u001b[1;34m\"The number of FixedLocator locations\"\u001b[0m\u001b[1;33m\u001b[0m\u001b[1;33m\u001b[0m\u001b[0m\n\u001b[0;32m   1892\u001b[0m                     \u001b[1;34mf\" ({len(locator.locs)}), usually from a call to\"\u001b[0m\u001b[1;33m\u001b[0m\u001b[1;33m\u001b[0m\u001b[0m\n",
      "\u001b[1;31mValueError\u001b[0m: The number of FixedLocator locations (2), usually from a call to set_ticks, does not match the number of ticklabels (6)."
     ]
    },
    {
     "data": {
      "image/png": "[encoded data removed]",
      "text/plain": [
       "<Figure size 432x288 with 2 Axes>"
      ]
     },
     "metadata": {
      "needs_background": "light"
     },
     "output_type": "display_data"
    }
   ],
   "source": [
    "from sklearn.metrics import confusion_matrix, ConfusionMatrixDisplay\n",
    "from keras.models import load_model\n",
    "\n",
    "model = load_model(\"lstm_10_4_8k_opti_yes_no.h5\")\n",
    "#Predict\n",
    "y_prediction = model.predict(X_test)\n",
    "y_prediction = np.argmax(y_prediction,axis=1)\n",
    "# y_test = np.argmax(y_test,axis=1)\n",
    "# Create confusion matrix and normalizes it over predicted (columns)\n",
    "result = confusion_matrix(np.argmax(y_test,axis=1), y_prediction, normalize='pred')\n",
    "ConfusionMatrixDisplay(result, display_labels=classes).plot()"
   ]
  },
  {
   "cell_type": "code",
   "execution_count": 97,
   "metadata": {},
   "outputs": [
    {
     "name": "stdout",
     "output_type": "stream",
     "text": [
      "2/2 [==============================] - 0s 10ms/step\n"
     ]
    },
    {
     "data": {
      "text/plain": [
       "<sklearn.metrics._plot.confusion_matrix.ConfusionMatrixDisplay at 0x26eaa6d0070>"
      ]
     },
     "execution_count": 97,
     "metadata": {},
     "output_type": "execute_result"
    },
    {
     "data": {
      "image/png": "[encoded data removed]",
      "text/plain": [
       "<Figure size 432x288 with 2 Axes>"
      ]
     },
     "metadata": {
      "needs_background": "light"
     },
     "output_type": "display_data"
    }
   ],
   "source": [
    "from keras.utils import to_categorical\n",
    "from sklearn.model_selection import train_test_split\n",
    "\n",
    "import os\n",
    "from pickle import *\n",
    "import numpy as np\n",
    "\n",
    "classes = [\"yes\", \"no\"]\n",
    "\n",
    "\n",
    "def load_and_padding_yes_no(path,max_length, n_mfcc):\n",
    "    with open(path, \"rb\") as f:\n",
    "        X = load(f)\n",
    "        y = load(f)\n",
    "    y = np.array(y)\n",
    "    \n",
    "    indices_yes_no = np.where(((y == 'no') | (y == 'yes')) )\n",
    "    X = [X[i] for i in indices_yes_no[0]]\n",
    "    y = [y[i] for i in indices_yes_no[0]]\n",
    "\n",
    "\n",
    "    # max_length = max([len(X[i][0]) for i in range(len(X))])\n",
    "    x = np.empty((len(X), n_mfcc, max_length))\n",
    "    for i in range(len(X)):\n",
    "        for j in range(len(X[i])):\n",
    "            x[i][j] = np.pad(X[i][j], (0, max_length - len(X[i][j])))\n",
    "    x = np.array(x).reshape((-1, n_mfcc, max_length))\n",
    "    \n",
    "    # Create a mask array to store the length of each padded signal\n",
    "    X_mask = np.zeros((x.shape[0], max_length), dtype=bool)\n",
    "    for i in range(x.shape[0]):\n",
    "        length = len(X[i][0])\n",
    "        X_mask[i, :length] = True\n",
    "    \n",
    "    return x, y, max_length, X_mask\n",
    "\n",
    "def create_test(file_path,n_mels,n_mfcc,classes): \n",
    "    '''Creates train and test sets from the data in the file_path.'''  \n",
    "    X, y, max_length, X_mask = load_and_padding_yes_no(file_path,461, n_mfcc=n_mfcc)\n",
    "    num_classes = len(classes)\n",
    "    y = [classes.index(x) for x in y]\n",
    "    y = to_categorical(y, num_classes)\n",
    "    return X, y, max_length, num_classes, classes\n",
    "\n",
    "X, y, max_length, num_classes, classes = create_test(\"../assets/MFCCs/rahim_mfcc_10_4.pkl\",10,4,classes)\n",
    "y_prediction = model.predict(X)\n",
    "y_prediction = np.argmax(y_prediction,axis=1)\n",
    "\n",
    "# Create confusion matrix and normalizes it over predicted (columns)\n",
    "result = confusion_matrix(np.argmax(y,axis=1), y_prediction, normalize='pred')\n",
    "ConfusionMatrixDisplay(result, display_labels=classes).plot()"
   ]
  },
  {
   "cell_type": "markdown",
   "metadata": {},
   "source": [
    "# Training pour les numbers"
   ]
  },
  {
   "cell_type": "code",
   "execution_count": 111,
   "metadata": {},
   "outputs": [],
   "source": [
    "def load_and_padding_one_four(path, n_mfcc):\n",
    "    with open(path, \"rb\") as f:\n",
    "        X = load(f)\n",
    "        y = load(f)\n",
    "    y = np.array(y)\n",
    "    \n",
    "    indices_yes_no = np.where(((y == 'one') | (y == 'two') | (y == 'three') | (y == 'four')) )\n",
    "    X = [X[i] for i in indices_yes_no[0]]\n",
    "    y = [y[i] for i in indices_yes_no[0]]\n",
    "\n",
    "\n",
    "    max_length = max([len(X[i][0]) for i in range(len(X))])\n",
    "    x = np.empty((len(X), n_mfcc, max_length))\n",
    "    for i in range(len(X)):\n",
    "        for j in range(len(X[i])):\n",
    "            x[i][j] = np.pad(X[i][j], (0, max_length - len(X[i][j])))\n",
    "    x = np.array(x).reshape((-1, n_mfcc, max_length))\n",
    "    \n",
    "    # Create a mask array to store the length of each padded signal\n",
    "    X_mask = np.zeros((x.shape[0], max_length), dtype=bool)\n",
    "    for i in range(x.shape[0]):\n",
    "        length = len(X[i][0])\n",
    "        X_mask[i, :length] = True\n",
    "    \n",
    "    return x, y, max_length, X_mask"
   ]
  },
  {
   "cell_type": "code",
   "execution_count": 112,
   "metadata": {},
   "outputs": [],
   "source": [
    "path = \"../assets/MFCCs/8k_train_20mels_5mfcc.pkl\"\n",
    "n_mfcc = 5\n",
    "X, y, max_length, X_mask = load_and_padding_one_four(path, n_mfcc)\n"
   ]
  },
  {
   "attachments": {},
   "cell_type": "markdown",
   "metadata": {},
   "source": [
    "### Splitting data"
   ]
  },
  {
   "cell_type": "code",
   "execution_count": 113,
   "metadata": {},
   "outputs": [],
   "source": [
    "import keras\n",
    "from keras.models import Sequential\n",
    "from keras.layers import LSTM, Dense\n",
    "from sklearn.model_selection import train_test_split\n",
    "import tensorflow as tf\n",
    "from keras.utils import to_categorical\n",
    "\n",
    "# Load the data into a pandas DataFrame\n",
    "import pandas as pd\n",
    "\n",
    "# Split the data into training and test sets\n",
    "X_train, X_test, y_train, y_test = train_test_split(X, y,  test_size=0.1, random_state=42)"
   ]
  },
  {
   "cell_type": "code",
   "execution_count": 114,
   "metadata": {},
   "outputs": [],
   "source": [
    "classes = [\"one\", \"two\", \"three\", \"four\"]\n",
    "num_classes=len(classes)\n",
    "y_train = [classes.index(x) for x in y_train]\n",
    "y_train = to_categorical(y_train, num_classes)\n",
    "y_test = [classes.index(x) for x in y_test]\n",
    "y_test = to_categorical(y_test, num_classes)"
   ]
  },
  {
   "attachments": {},
   "cell_type": "markdown",
   "metadata": {},
   "source": [
    "### Training the model with the selected hyperparameters"
   ]
  },
  {
   "cell_type": "code",
   "execution_count": 115,
   "metadata": {},
   "outputs": [],
   "source": [
    "learning_rate = 7*1e-4\n",
    "epoch = 100\n",
    "batch_size = 32\n",
    "validation_split = 0.1\n",
    "dropout = 0.18\n",
    "recurrent_dropout = 0.18\n",
    "histories = []\n",
    "test_accuracies = []\n",
    "\n",
    "model = create_model(learning_rate, dropout,recurrent_dropout,5, max_length, num_classes=4)"
   ]
  },
  {
   "cell_type": "code",
   "execution_count": 116,
   "metadata": {},
   "outputs": [
    {
     "name": "stdout",
     "output_type": "stream",
     "text": [
      "Epoch 1/100\n",
      "229/229 [==============================] - 11s 25ms/step - loss: 1.1942 - accuracy: 0.4515 - val_loss: 1.0498 - val_accuracy: 0.5400\n",
      "Epoch 2/100\n",
      "229/229 [==============================] - 5s 21ms/step - loss: 0.9737 - accuracy: 0.5968 - val_loss: 0.9574 - val_accuracy: 0.6212\n",
      "Epoch 3/100\n",
      "229/229 [==============================] - 5s 22ms/step - loss: 0.8543 - accuracy: 0.6640 - val_loss: 0.8876 - val_accuracy: 0.6408\n",
      "Epoch 4/100\n",
      "229/229 [==============================] - 5s 22ms/step - loss: 0.7639 - accuracy: 0.7065 - val_loss: 0.8200 - val_accuracy: 0.6593\n",
      "Epoch 5/100\n",
      "229/229 [==============================] - 5s 21ms/step - loss: 0.6879 - accuracy: 0.7388 - val_loss: 0.8133 - val_accuracy: 0.6507\n",
      "Epoch 6/100\n",
      "229/229 [==============================] - 5s 21ms/step - loss: 0.6327 - accuracy: 0.7579 - val_loss: 0.8121 - val_accuracy: 0.6876\n",
      "Epoch 7/100\n",
      "229/229 [==============================] - 5s 22ms/step - loss: 0.5954 - accuracy: 0.7794 - val_loss: 0.8093 - val_accuracy: 0.6704\n",
      "Epoch 8/100\n",
      "229/229 [==============================] - 5s 22ms/step - loss: 0.5565 - accuracy: 0.7914 - val_loss: 0.7713 - val_accuracy: 0.7048\n",
      "Epoch 9/100\n",
      "229/229 [==============================] - 5s 24ms/step - loss: 0.5197 - accuracy: 0.8123 - val_loss: 0.7640 - val_accuracy: 0.6888\n",
      "Epoch 10/100\n",
      "229/229 [==============================] - 5s 22ms/step - loss: 0.4962 - accuracy: 0.8156 - val_loss: 0.7458 - val_accuracy: 0.7257\n",
      "Epoch 11/100\n",
      "229/229 [==============================] - 5s 22ms/step - loss: 0.4522 - accuracy: 0.8378 - val_loss: 0.7396 - val_accuracy: 0.7097\n",
      "Epoch 12/100\n",
      "229/229 [==============================] - 5s 22ms/step - loss: 0.4345 - accuracy: 0.8443 - val_loss: 0.7346 - val_accuracy: 0.7208\n",
      "Epoch 13/100\n",
      "229/229 [==============================] - 5s 22ms/step - loss: 0.4216 - accuracy: 0.8424 - val_loss: 0.8065 - val_accuracy: 0.7085\n",
      "Epoch 14/100\n",
      "229/229 [==============================] - 5s 22ms/step - loss: 0.4057 - accuracy: 0.8510 - val_loss: 0.7752 - val_accuracy: 0.7060\n",
      "Epoch 15/100\n",
      "229/229 [==============================] - 5s 22ms/step - loss: 0.3739 - accuracy: 0.8686 - val_loss: 0.7961 - val_accuracy: 0.6974\n",
      "Epoch 16/100\n",
      "229/229 [==============================] - 5s 22ms/step - loss: 0.3707 - accuracy: 0.8647 - val_loss: 0.7629 - val_accuracy: 0.7269\n",
      "Epoch 17/100\n",
      "229/229 [==============================] - 5s 22ms/step - loss: 0.3504 - accuracy: 0.8730 - val_loss: 0.7870 - val_accuracy: 0.7134\n",
      "Epoch 18/100\n",
      "229/229 [==============================] - 5s 21ms/step - loss: 0.3364 - accuracy: 0.8796 - val_loss: 0.7785 - val_accuracy: 0.7331\n",
      "Epoch 19/100\n",
      "229/229 [==============================] - 5s 22ms/step - loss: 0.3074 - accuracy: 0.8946 - val_loss: 0.7967 - val_accuracy: 0.7220\n",
      "Epoch 20/100\n",
      "229/229 [==============================] - 5s 22ms/step - loss: 0.3218 - accuracy: 0.8859 - val_loss: 0.7769 - val_accuracy: 0.7159\n",
      "Epoch 21/100\n",
      "229/229 [==============================] - 5s 23ms/step - loss: 0.3103 - accuracy: 0.8926 - val_loss: 0.8344 - val_accuracy: 0.7159\n",
      "Epoch 22/100\n",
      "229/229 [==============================] - 5s 22ms/step - loss: 0.2953 - accuracy: 0.8931 - val_loss: 0.8185 - val_accuracy: 0.7208\n",
      "Epoch 23/100\n",
      "229/229 [==============================] - 5s 22ms/step - loss: 0.2805 - accuracy: 0.8994 - val_loss: 0.8084 - val_accuracy: 0.7208\n",
      "Epoch 24/100\n",
      "229/229 [==============================] - 5s 22ms/step - loss: 0.2599 - accuracy: 0.9092 - val_loss: 0.7967 - val_accuracy: 0.7196\n",
      "Epoch 25/100\n",
      "229/229 [==============================] - 5s 22ms/step - loss: 0.2655 - accuracy: 0.9097 - val_loss: 0.8033 - val_accuracy: 0.7405\n",
      "Epoch 26/100\n",
      "229/229 [==============================] - 5s 22ms/step - loss: 0.2635 - accuracy: 0.9098 - val_loss: 0.8512 - val_accuracy: 0.7159\n",
      "Epoch 27/100\n",
      "229/229 [==============================] - 5s 21ms/step - loss: 0.2434 - accuracy: 0.9176 - val_loss: 0.7860 - val_accuracy: 0.7183\n",
      "Epoch 28/100\n",
      "229/229 [==============================] - 5s 22ms/step - loss: 0.2419 - accuracy: 0.9133 - val_loss: 0.8100 - val_accuracy: 0.7429\n",
      "Epoch 29/100\n",
      "229/229 [==============================] - 5s 21ms/step - loss: 0.2309 - accuracy: 0.9194 - val_loss: 0.7632 - val_accuracy: 0.7405\n",
      "Epoch 30/100\n",
      "229/229 [==============================] - 5s 21ms/step - loss: 0.2225 - accuracy: 0.9233 - val_loss: 0.7955 - val_accuracy: 0.7355\n",
      "Epoch 31/100\n",
      "229/229 [==============================] - 5s 23ms/step - loss: 0.2159 - accuracy: 0.9225 - val_loss: 0.7917 - val_accuracy: 0.7442\n",
      "Epoch 32/100\n",
      "229/229 [==============================] - 5s 21ms/step - loss: 0.2149 - accuracy: 0.9217 - val_loss: 0.8135 - val_accuracy: 0.7442\n",
      "Epoch 33/100\n",
      "229/229 [==============================] - 5s 22ms/step - loss: 0.2224 - accuracy: 0.9207 - val_loss: 0.8486 - val_accuracy: 0.7392\n",
      "Epoch 34/100\n",
      "229/229 [==============================] - 5s 22ms/step - loss: 0.2114 - accuracy: 0.9248 - val_loss: 0.8631 - val_accuracy: 0.7257\n",
      "Epoch 35/100\n",
      "229/229 [==============================] - 5s 22ms/step - loss: 0.2105 - accuracy: 0.9230 - val_loss: 0.8606 - val_accuracy: 0.7405\n",
      "Epoch 36/100\n",
      "229/229 [==============================] - 5s 21ms/step - loss: 0.2203 - accuracy: 0.9195 - val_loss: 0.8934 - val_accuracy: 0.7306\n",
      "Epoch 37/100\n",
      "229/229 [==============================] - 5s 22ms/step - loss: 0.2028 - accuracy: 0.9276 - val_loss: 0.8600 - val_accuracy: 0.7368\n",
      "Epoch 38/100\n",
      "229/229 [==============================] - ETA: 0s - loss: 0.1974 - accuracy: 0.9306Restoring model weights from the end of the best epoch: 31.\n",
      "229/229 [==============================] - 5s 22ms/step - loss: 0.1974 - accuracy: 0.9306 - val_loss: 0.8849 - val_accuracy: 0.7269\n",
      "Epoch 38: early stopping\n"
     ]
    },
    {
     "data": {
      "text/plain": [
       "<keras.callbacks.History at 0x26ea05bd880>"
      ]
     },
     "execution_count": 116,
     "metadata": {},
     "output_type": "execute_result"
    }
   ],
   "source": [
    "model.fit(X_train, y_train, epochs=epoch, batch_size=batch_size,validation_split=validation_split, use_multiprocessing=True, callbacks=[callback],verbose=1)"
   ]
  },
  {
   "cell_type": "code",
   "execution_count": 117,
   "metadata": {},
   "outputs": [],
   "source": [
    "model.save(\"lstm_20_5_8k_opti_one_four.h5\")\n"
   ]
  },
  {
   "cell_type": "code",
   "execution_count": 119,
   "metadata": {},
   "outputs": [
    {
     "data": {
      "text/plain": [
       "581"
      ]
     },
     "execution_count": 119,
     "metadata": {},
     "output_type": "execute_result"
    }
   ],
   "source": [
    "max_length"
   ]
  },
  {
   "cell_type": "code",
   "execution_count": 118,
   "metadata": {},
   "outputs": [
    {
     "name": "stdout",
     "output_type": "stream",
     "text": [
      "29/29 [==============================] - 0s 8ms/step - loss: 0.8582 - accuracy: 0.7046\n"
     ]
    },
    {
     "data": {
      "text/plain": [
       "[0.8582158088684082, 0.7046459913253784]"
      ]
     },
     "execution_count": 118,
     "metadata": {},
     "output_type": "execute_result"
    }
   ],
   "source": [
    "model.evaluate(X_test, y_test)\n"
   ]
  },
  {
   "cell_type": "code",
   "execution_count": 121,
   "metadata": {},
   "outputs": [
    {
     "name": "stdout",
     "output_type": "stream",
     "text": [
      "29/29 [==============================] - 1s 8ms/step\n"
     ]
    },
    {
     "data": {
      "text/plain": [
       "<sklearn.metrics._plot.confusion_matrix.ConfusionMatrixDisplay at 0x26eb5e5ddc0>"
      ]
     },
     "execution_count": 121,
     "metadata": {},
     "output_type": "execute_result"
    },
    {
     "data": {
      "image/png": "[encoded data removed]",
      "text/plain": [
       "<Figure size 432x288 with 2 Axes>"
      ]
     },
     "metadata": {
      "needs_background": "light"
     },
     "output_type": "display_data"
    }
   ],
   "source": [
    "from sklearn.metrics import confusion_matrix, ConfusionMatrixDisplay\n",
    "from keras.models import load_model\n",
    "\n",
    "model = load_model(\"lstm_20_5_8k_opti_one_four.h5\")\n",
    "#Predict\n",
    "y_prediction = model.predict(X_test)\n",
    "y_prediction = np.argmax(y_prediction,axis=1)\n",
    "# y_test = np.argmax(y_test,axis=1)\n",
    "# Create confusion matrix and normalizes it over predicted (columns)\n",
    "result = confusion_matrix(np.argmax(y_test,axis=1), y_prediction, normalize='pred')\n",
    "ConfusionMatrixDisplay(result, display_labels=classes).plot()"
   ]
  },
  {
   "cell_type": "code",
   "execution_count": 126,
   "metadata": {},
   "outputs": [
    {
     "name": "stdout",
     "output_type": "stream",
     "text": [
      "4/4 [==============================] - 0s 8ms/step\n"
     ]
    },
    {
     "data": {
      "text/plain": [
       "<sklearn.metrics._plot.confusion_matrix.ConfusionMatrixDisplay at 0x26ea9f10b50>"
      ]
     },
     "execution_count": 126,
     "metadata": {},
     "output_type": "execute_result"
    },
    {
     "data": {
      "image/png": "[encoded data removed]",
      "text/plain": [
       "<Figure size 432x288 with 2 Axes>"
      ]
     },
     "metadata": {
      "needs_background": "light"
     },
     "output_type": "display_data"
    }
   ],
   "source": [
    "from keras.utils import to_categorical\n",
    "from sklearn.model_selection import train_test_split\n",
    "\n",
    "import os\n",
    "from pickle import *\n",
    "import numpy as np\n",
    "\n",
    "classes = [\"one\", \"two\", \"three\", \"four\"]\n",
    "\n",
    "\n",
    "def load_and_padding_yes_no(path,max_length, n_mfcc):\n",
    "    with open(path, \"rb\") as f:\n",
    "        X = load(f)\n",
    "        y = load(f)\n",
    "    y = np.array(y)\n",
    "    \n",
    "    indices_yes_no = np.where(((y == 'one') | (y == 'two') | (y == 'three') | (y == 'four')) )\n",
    "    X = [X[i] for i in indices_yes_no[0]]\n",
    "    y = [y[i] for i in indices_yes_no[0]]\n",
    "\n",
    "\n",
    "    # max_length = max([len(X[i][0]) for i in range(len(X))])\n",
    "    x = np.empty((len(X), n_mfcc, max_length))\n",
    "    for i in range(len(X)):\n",
    "        for j in range(len(X[i])):\n",
    "            x[i][j] = np.pad(X[i][j], (0, max_length - len(X[i][j])))\n",
    "    x = np.array(x).reshape((-1, n_mfcc, max_length))\n",
    "    \n",
    "    # Create a mask array to store the length of each padded signal\n",
    "    X_mask = np.zeros((x.shape[0], max_length), dtype=bool)\n",
    "    for i in range(x.shape[0]):\n",
    "        length = len(X[i][0])\n",
    "        X_mask[i, :length] = True\n",
    "    \n",
    "    return x, y, max_length, X_mask\n",
    "\n",
    "def create_test(file_path,n_mels,n_mfcc,classes): \n",
    "    '''Creates train and test sets from the data in the file_path.'''  \n",
    "    X, y, max_length, X_mask = load_and_padding_yes_no(file_path,581, n_mfcc=n_mfcc)\n",
    "    num_classes = len(classes)\n",
    "    y = [classes.index(x) for x in y]\n",
    "    y = to_categorical(y, num_classes)\n",
    "    return X, y, max_length, num_classes, classes\n",
    "\n",
    "X, y, max_length, num_classes, classes = create_test(\"../assets/MFCCs/rahim_mfcc.pkl\",20,5,classes)\n",
    "y_prediction = model.predict(X)\n",
    "y_prediction = np.argmax(y_prediction,axis=1)\n",
    "\n",
    "# Create confusion matrix and normalizes it over predicted (columns)\n",
    "result = confusion_matrix(np.argmax(y,axis=1), y_prediction, normalize='pred')\n",
    "ConfusionMatrixDisplay(result, display_labels=classes).plot()"
   ]
  }
 ],
 "metadata": {
  "kernelspec": {
   "display_name": "Python 3.9.16 ('pytorch')",
   "language": "python",
   "name": "python3"
  },
  "language_info": {
   "codemirror_mode": {
    "name": "ipython",
    "version": 3
   },
   "file_extension": ".py",
   "mimetype": "text/x-python",
   "name": "python",
   "nbconvert_exporter": "python",
   "pygments_lexer": "ipython3",
   "version": "3.9.16"
  },
  "orig_nbformat": 4,
  "vscode": {
   "interpreter": {
    "hash": "b3d36c977726154972f35570aa82598c65dbe8518a2f86d2ec7a1bb7fc77cba3"
   }
  }
 },
 "nbformat": 4,
 "nbformat_minor": 2
}
