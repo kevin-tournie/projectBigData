{
 "cells": [
  {
   "cell_type": "code",
   "execution_count": 41,
   "metadata": {},
   "outputs": [
    {
     "data": {
      "image/png": "[encoded data removed]",
      "text/plain": [
       "<Figure size 640x480 with 1 Axes>"
      ]
     },
     "metadata": {},
     "output_type": "display_data"
    }
   ],
   "source": [
    "#1) dev, train --> corrected_sentence\n",
    "#2) character error rate columns in the 3 DF\n",
    "#3) Mean character error rate\n",
    "#4) Cf accuracy, precision, error\n",
    "\n",
    "# To read the excel file back\n",
    "# df = pd.read_excel('file_name.xlsx')\n",
    "import pandas as pd\n",
    "\n",
    "#-------------------------------------------------------------------------------\n",
    "#Chargement des DF à partir des fichiers excels\n",
    "filtered_train_df = pd.read_excel('filtered_train_6953rows.xlsx')\n",
    "# filtered_train_df\n",
    "filtered_dev_df = pd.read_excel('filtered_dev_3481rows.xlsx')\n",
    "# filtered_dev_df\n",
    "filtered_test_df = pd.read_excel('filtered_test_3467rows.xlsx')\n",
    "# filtered_test_df\n",
    "\n",
    "\n",
    "filtered_train_df[\"correct_predicted\"] = filtered_train_df.apply(lambda row: row['sentence'] == row['predicted_sentence'], axis=1)\n",
    "filtered_dev_df[\"correct_predicted\"] = filtered_dev_df.apply(lambda row: row['sentence'] == row['predicted_sentence'], axis=1)\n",
    "# filtered_train_df\n",
    "\n",
    "# Calculate the percentage of correct predictions\n",
    "names_df = [filtered_train_df, filtered_dev_df, filtered_test_df]\n",
    "names_df_string = [\"filtered_train_df\", \"filtered_dev_df\", \"filtered_test_df\"]\n",
    "percentage_of_true_table = []\n",
    "for name in names_df:\n",
    "    percentage_of_true_table.append(100 * name['correct_predicted'].value_counts()[True] / name.shape[0])\n",
    "\n",
    "# print(percentage_of_true_table) #[30.14526103840069, 30.278655558747488, 69.62792039226997]\n",
    "#Bar plot\n",
    "import matplotlib.pyplot as plt\n",
    "\n",
    "#Create a bar plot of the 'char_error_rate' column\n",
    "plt.bar(names_df_string, percentage_of_true_table)\n",
    "\n",
    "# Add x and y labels\n",
    "plt.xlabel('Datasets')\n",
    "plt.ylabel('Percentage of Correctly Predicted')\n",
    "\n",
    "# Add title\n",
    "plt.title('Train, Dev, Test')\n",
    "\n",
    "# Show the plot\n",
    "plt.show()\n",
    "\n",
    "\n",
    "\n"
   ]
  },
  {
   "cell_type": "code",
   "execution_count": 64,
   "metadata": {},
   "outputs": [
    {
     "name": "stdout",
     "output_type": "stream",
     "text": [
      "{'yes': 89.94082840236686, 'no': 88.50771869639794, 'one': 86.62150719729043, 'two': 67.53022452504318, 'three': 55.47511312217195, 'four': 64.13793103448276}\n"
     ]
    }
   ],
   "source": [
    "# Define the desired answers\n",
    "answers = [\"yes\", \"no\", \"one\", \"two\", \"three\", \"four\"]\n",
    "\n",
    "# # Create an empty dictionary to store the percentages\n",
    "percentages = {}\n",
    "\n",
    "# Iterate through the desired answers\n",
    "# for answer in answers:\n",
    "#     name = filtered_train_df[filtered_train_df['sentence'] == answer]\n",
    "#     percentages[answer] = 100 * name['correct_predicted'].value_counts()[True] / name.shape[0]\n",
    "\n",
    "# percentages\n",
    "# print(percentages)\n",
    "\n",
    "\n",
    "# name = filtered_train_df[filtered_train_df['sentence'] == \"yes\"]\n",
    "# name\n",
    "# percentages[\"yes\"] = 100 * name['correct_predicted'].value_counts()[True] / name.shape[0]\n",
    "\n",
    "# percentages #{'yes': 89.94082840236686}\n",
    "\n",
    "name = filtered_train_df[filtered_train_df['sentence'] == \"one\"]\n",
    "name\n",
    "unique_predicted_sentences = name['predicted_sentence'].unique()\n",
    "unique_predicted_sentences\n",
    "\n",
    "# name['correct_predicted'].value_counts()[\"True\"]\n",
    "# percentages[\"one\"] = 100 * name['correct_predicted'].value_counts()[True] / name.shape[0]\n",
    "\n",
    "# percentages #{'yes': 89.94082840236686}\n",
    "#array(['1', 'morning', 'what',\n",
    "    #    \"<class 'speech_recognition.UnknownValueError'>\", 'wine', 'van',\n",
    "    #    '11', 'wait', 'when', 'Wham', 'want', 'why', 'run', 'Bond',\n",
    "    #    'white', 'wind', 'wang', 'man', 'land', 'wire', 'weiner', 'born',\n",
    "    #    'once', 'Watton', 'Warren', 'Wayne'], dtype=object)\n",
    "\n",
    "#Il y a 0 \"one\"\n",
    "#Transcrit automatique vers \"1\"!\n",
    "\n",
    "#--->\n",
    "#On va convertir et faire le tableau avec la correction\n",
    "def convert_number(n):\n",
    "    if n == \"1\":\n",
    "        return \"one\"\n",
    "    elif n == \"2\":\n",
    "        return \"two\"\n",
    "    elif n == \"3\":\n",
    "        return \"three\"\n",
    "    elif n == \"4\":\n",
    "        return \"four\"\n",
    "    else:\n",
    "        return n\n",
    "\n",
    "filtered_train_df['predicted_sentence'] = filtered_train_df['predicted_sentence'].apply(convert_number)\n",
    "filtered_train_df[\"correct_predicted\"] = filtered_train_df.apply(lambda row: row['sentence'] == row['predicted_sentence'], axis=1)\n",
    "\n",
    "# filtered_train_df\n",
    "for name in names_df:\n",
    "    percentage_of_true_table.append(100 * name['correct_predicted'].value_counts()[True] / name.shape[0])\n",
    "\n",
    "#Après nettoyage pour train, on passe de 30 à 75!\n",
    "percentage_of_true_table #[30.14526103840069,30.278655558747488,69.62792039226997] --> [75.6220336545376, 30.278655558747488,69.62792039226997]\n",
    "\n",
    "#--------------------------------------------------------------------------------------------------\n",
    "#On recommence à générer le bar chart avec les percentage of true by answers\n",
    "# Define the desired answers\n",
    "answers = [\"yes\", \"no\", \"one\", \"two\", \"three\", \"four\"]\n",
    "\n",
    "# # Create an empty dictionary to store the percentages\n",
    "percentages = {}\n",
    "\n",
    "# Iterate through the desired answers\n",
    "for answer in answers:\n",
    "    name = filtered_train_df[filtered_train_df['sentence'] == answer]\n",
    "    percentages[answer] = 100 * name['correct_predicted'].value_counts()[True] / name.shape[0]\n",
    "\n",
    "percentages\n",
    "print(percentages)\n",
    "#{'yes': 89.94082840236686, 'no': 88.50771869639794, 'one': 86.62150719729043, 'two': 67.53022452504318, 'three': 55.47511312217195, 'four': 64.13793103448276}\n",
    "\n",
    "\n"
   ]
  },
  {
   "cell_type": "code",
   "execution_count": 8,
   "metadata": {},
   "outputs": [
    {
     "data": {
      "text/plain": [
       "tensor([[0.0338, 0.1046, 0.1169, 0.0514, 0.6934],\n",
       "        [0.1160, 0.4545, 0.1539, 0.0532, 0.2223],\n",
       "        [0.1954, 0.0757, 0.4730, 0.2165, 0.0394],\n",
       "        [0.0256, 0.0705, 0.3271, 0.1026, 0.4742],\n",
       "        [0.1669, 0.2292, 0.1922, 0.2286, 0.1831],\n",
       "        [0.1123, 0.2393, 0.2821, 0.1632, 0.2030],\n",
       "        [0.0694, 0.1514, 0.4643, 0.2919, 0.0230],\n",
       "        [0.3033, 0.1249, 0.3637, 0.1645, 0.0436],\n",
       "        [0.2157, 0.1557, 0.1570, 0.3296, 0.1420],\n",
       "        [0.2313, 0.1381, 0.2421, 0.0970, 0.2915]])"
      ]
     },
     "execution_count": 8,
     "metadata": {},
     "output_type": "execute_result"
    }
   ],
   "source": [
    "#Je m'en suis pas servi vraiment\n",
    "#On peut supprimer?\n",
    "import torch\n",
    "# import our library\n",
    "import torchmetrics\n",
    "\n",
    "# preds = [\"this is the prediction\", \"there is an other sample\"]\n",
    "# target = [\"this is the reference\", \"there is another one\"]\n",
    "# char_error_rate(preds=preds, target=target)\n",
    "\n",
    "# simulate a classification problem\n",
    "preds = torch.randn(10, 5).softmax(dim=-1)\n",
    "target = torch.randint(5, (10,))\n",
    "# preds\n",
    "acc = torchmetrics.functional.accuracy(preds, target, task='multiclass', num_classes=5)\n",
    "acc"
   ]
  },
  {
   "cell_type": "code",
   "execution_count": 32,
   "metadata": {},
   "outputs": [
    {
     "name": "stderr",
     "output_type": "stream",
     "text": [
      "C:\\Users\\Simon\\AppData\\Local\\Temp\\ipykernel_10664\\2835266889.py:55: FutureWarning: The frame.append method is deprecated and will be removed from pandas in a future version. Use pandas.concat instead.\n",
      "  grouped = grouped.append(grouped[~grouped['sentence'].isin(order)].sort_values(by='sentence'), ignore_index=True)\n"
     ]
    },
    {
     "data": {
      "image/png": "[encoded data removed]",
      "text/plain": [
       "<Figure size 640x480 with 1 Axes>"
      ]
     },
     "metadata": {},
     "output_type": "display_data"
    }
   ],
   "source": [
    "import pandas as pd\n",
    "import torch\n",
    "import torchmetrics\n",
    "\n",
    "#Adding the column char_error_rate\n",
    "filtered_train_df['char_error_rate'] = filtered_train_df.apply(lambda row: torchmetrics.functional.char_error_rate(row['sentence'], row['predicted_sentence']), axis=1)\n",
    "filtered_train_df\n",
    "\n",
    "# First convert the tensors to numbers\n",
    "filtered_train_df['char_error_rate'] = filtered_train_df['char_error_rate'].apply(lambda x: x.item())\n",
    "\n",
    "# Calculate the mean of the column\n",
    "mean = filtered_train_df['char_error_rate'].mean()\n",
    "# print(mean) #1.8549806161199767\n",
    "\n",
    "filtered_train_df\n",
    "\n",
    "# First convert the tensors to numbers\n",
    "#Attention, une fois que l'on a converti, on ne peut plus reconvertir dans cette ligne de code entraine une erreur\n",
    "# filtered_train_df['char_error_rate'] = filtered_train_df['char_error_rate'].apply(lambda x: x.item())\n",
    "\n",
    "# Group by 'sentence' column and calculate the mean of 'char_error_rate' for each group\n",
    "# grouped = filtered_train_df.groupby('sentence')['char_error_rate'].mean()\n",
    "\n",
    "# sentence\n",
    "# four     2.899915\n",
    "# no       0.092736\n",
    "# one      2.712156\n",
    "# three    3.101123\n",
    "# two      2.328530\n",
    "# yes      0.084036\n",
    "\n",
    "\n",
    "# Getting a Dataframe for grouped!\n",
    "grouped = filtered_train_df.groupby('sentence')['char_error_rate'].mean().reset_index()\n",
    "# grouped\n",
    "\n",
    "# grouped\n",
    "#     sentence\tchar_error_rate\n",
    "# 0\tfour\t    2.899915\n",
    "# 1\tno\t        0.092736\n",
    "# 2\tone\t        2.712156\n",
    "# 3\tthree\t    3.101123\n",
    "# 4\ttwo\t        2.328530\n",
    "# 5\tyes\t        0.084036\n",
    "\n",
    "#order in this order [\"yes\", \"no\", \"one\", \"two\", \"three\", \"four\"]\n",
    "# Define the desired order\n",
    "order = [\"yes\", \"no\", \"one\", \"two\", \"three\", \"four\"]\n",
    "\n",
    "# Reindex the grouped dataframe with the desired order\n",
    "grouped = grouped.set_index('sentence').reindex(order).reset_index()\n",
    "\n",
    "# Append the rest of the sentences to the end of the DataFrame\n",
    "grouped = grouped.append(grouped[~grouped['sentence'].isin(order)].sort_values(by='sentence'), ignore_index=True)\n",
    "grouped\n",
    "\n",
    "\n",
    "#-------------------------------------------------------------------------------\n",
    "#Bar plot\n",
    "import matplotlib.pyplot as plt\n",
    "\n",
    "#Create a bar plot of the 'char_error_rate' column\n",
    "plt.bar(grouped['sentence'], grouped['char_error_rate'])\n",
    "\n",
    "# Add x and y labels\n",
    "plt.xlabel('Sentence')\n",
    "plt.ylabel('Character Error Rate')\n",
    "\n",
    "# Add title\n",
    "plt.title('filtered_train_df')\n",
    "\n",
    "# Show the plot\n",
    "plt.show()\n",
    "\n"
   ]
  },
  {
   "cell_type": "code",
   "execution_count": null,
   "metadata": {},
   "outputs": [],
   "source": []
  },
  {
   "cell_type": "code",
   "execution_count": null,
   "metadata": {},
   "outputs": [],
   "source": []
  }
 ],
 "metadata": {
  "kernelspec": {
   "display_name": "Python 3",
   "language": "python",
   "name": "python3"
  },
  "language_info": {
   "codemirror_mode": {
    "name": "ipython",
    "version": 3
   },
   "file_extension": ".py",
   "mimetype": "text/x-python",
   "name": "python",
   "nbconvert_exporter": "python",
   "pygments_lexer": "ipython3",
   "version": "3.10.5"
  },
  "orig_nbformat": 4,
  "vscode": {
   "interpreter": {
    "hash": "c5d01433c49bebc7c0f039aefb7a5f7006b5cc5372ab57f4229212c8564f15fd"
   }
  }
 },
 "nbformat": 4,
 "nbformat_minor": 2
}
