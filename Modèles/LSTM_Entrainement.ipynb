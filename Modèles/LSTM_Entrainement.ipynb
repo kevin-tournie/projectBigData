{
 "cells": [
  {
   "cell_type": "code",
   "execution_count": 7,
   "metadata": {},
   "outputs": [
    {
     "name": "stdout",
     "output_type": "stream",
     "text": [
      "Epoch 1/20\n",
      "174/174 [==============================] - 11s 46ms/step - loss: 1.7768 - accuracy: 0.2199 - val_loss: 1.7375 - val_accuracy: 0.2552\n",
      "Epoch 2/20\n",
      "174/174 [==============================] - 7s 42ms/step - loss: 1.4750 - accuracy: 0.4488 - val_loss: 1.6801 - val_accuracy: 0.2933\n",
      "Epoch 3/20\n",
      "174/174 [==============================] - 7s 42ms/step - loss: 1.2458 - accuracy: 0.5645 - val_loss: 1.6201 - val_accuracy: 0.3415\n",
      "Epoch 4/20\n",
      "174/174 [==============================] - 7s 41ms/step - loss: 1.0260 - accuracy: 0.6679 - val_loss: 1.6509 - val_accuracy: 0.3393\n",
      "Epoch 5/20\n",
      "174/174 [==============================] - 7s 42ms/step - loss: 0.8205 - accuracy: 0.7515 - val_loss: 1.7091 - val_accuracy: 0.3530\n",
      "Epoch 6/20\n",
      "174/174 [==============================] - 7s 42ms/step - loss: 0.6453 - accuracy: 0.8179 - val_loss: 1.7479 - val_accuracy: 0.3530\n",
      "Epoch 7/20\n",
      "174/174 [==============================] - 7s 43ms/step - loss: 0.4725 - accuracy: 0.8919 - val_loss: 1.7750 - val_accuracy: 0.3638\n",
      "Epoch 8/20\n",
      "174/174 [==============================] - 7s 43ms/step - loss: 0.3417 - accuracy: 0.9342 - val_loss: 1.8533 - val_accuracy: 0.3652\n",
      "Epoch 9/20\n",
      "174/174 [==============================] - 7s 43ms/step - loss: 0.2459 - accuracy: 0.9599 - val_loss: 1.9474 - val_accuracy: 0.3580\n",
      "Epoch 10/20\n",
      "174/174 [==============================] - 9s 50ms/step - loss: 0.1917 - accuracy: 0.9755 - val_loss: 1.9999 - val_accuracy: 0.3666\n",
      "Epoch 11/20\n",
      "174/174 [==============================] - 10s 56ms/step - loss: 0.1377 - accuracy: 0.9876 - val_loss: 2.0590 - val_accuracy: 0.3652\n",
      "Epoch 12/20\n",
      "174/174 [==============================] - 9s 50ms/step - loss: 0.1110 - accuracy: 0.9907 - val_loss: 2.0686 - val_accuracy: 0.3925\n",
      "Epoch 13/20\n",
      "174/174 [==============================] - 8s 48ms/step - loss: 0.0824 - accuracy: 0.9939 - val_loss: 2.1580 - val_accuracy: 0.3674\n",
      "Epoch 14/20\n",
      "174/174 [==============================] - 8s 46ms/step - loss: 0.0396 - accuracy: 1.0000 - val_loss: 2.1664 - val_accuracy: 0.3861\n",
      "Epoch 15/20\n",
      "174/174 [==============================] - 8s 45ms/step - loss: 0.0235 - accuracy: 0.9998 - val_loss: 2.2242 - val_accuracy: 0.3832\n",
      "Epoch 16/20\n",
      "174/174 [==============================] - 7s 41ms/step - loss: 0.0151 - accuracy: 1.0000 - val_loss: 2.2746 - val_accuracy: 0.3825\n",
      "Epoch 17/20\n",
      "174/174 [==============================] - 7s 40ms/step - loss: 0.0116 - accuracy: 1.0000 - val_loss: 2.3239 - val_accuracy: 0.3817\n",
      "Epoch 18/20\n",
      "174/174 [==============================] - 8s 44ms/step - loss: 0.0094 - accuracy: 1.0000 - val_loss: 2.3483 - val_accuracy: 0.3832\n",
      "Epoch 19/20\n",
      "174/174 [==============================] - 7s 39ms/step - loss: 0.0079 - accuracy: 1.0000 - val_loss: 2.3794 - val_accuracy: 0.3875\n",
      "Epoch 20/20\n",
      "174/174 [==============================] - 7s 40ms/step - loss: 0.0066 - accuracy: 1.0000 - val_loss: 2.4123 - val_accuracy: 0.3839\n"
     ]
    },
    {
     "data": {
      "text/plain": [
       "<keras.callbacks.History at 0x258ba965300>"
      ]
     },
     "execution_count": 7,
     "metadata": {},
     "output_type": "execute_result"
    }
   ],
   "source": [
    "import librosa\n",
    "import os\n",
    "\n",
    "import numpy as np\n",
    "import keras\n",
    "from keras.models import Sequential\n",
    "from keras.layers import LSTM, Dense\n",
    "from sklearn.model_selection import train_test_split\n",
    "import pandas as pd\n",
    "import tensorflow as tf\n",
    "from keras.utils import to_categorical\n",
    "from pickle import *\n",
    "\n",
    "#\n",
    "\n",
    "f = open(\"./variables_X_y1\",\"rb\")\n",
    "X = load(f)\n",
    "y1 = load(f)\n",
    "f.close()\n",
    "\n",
    "# print(\"X=\",X, \"y1=\",y1)\n",
    "\n",
    "# Determine the maximum length of the sequences in X\n",
    "max_length = max([len(X[i][0]) for i in range(len(X))])\n",
    "\n",
    "X_copy = np.empty((len(X),13,max_length))\n",
    "\n",
    "for i in range(len(X)):\n",
    "    for j in range(len(X[i])):\n",
    "        X_copy[i][j] = np.pad(X[i][j], (0, max_length - len(X[i][j])))\n",
    "\n",
    "\n",
    "\n",
    "# Split the data into training and testing sets\n",
    "X_train, X_test, y_train, y_test = train_test_split(X_copy, y1, test_size=0.2)\n",
    "\n",
    "# Reshape the data for the LSTM input\n",
    "X_train = np.array(X_train).reshape((-1, 13, max_length))\n",
    "X_test = np.array(X_test).reshape((-1, 13, max_length))\n",
    "\n",
    "\n",
    "\n",
    "# Define the LSTM model\n",
    "# transcript_vocab = set([\"yes\", \"no\", \"one\", \"two\", \"three\", \"four\"])\n",
    "\n",
    "\n",
    "transcript_vocab = set(y1)\n",
    "\n",
    "num_classes = len(transcript_vocab)\n",
    "y_train = [list(transcript_vocab).index(x) for x in y_train]\n",
    "y_train = to_categorical(y_train, num_classes)\n",
    "y_test = [list(transcript_vocab).index(x) for x in y_test]\n",
    "y_test = to_categorical(y_test, num_classes)\n",
    "\n",
    "model = Sequential()\n",
    "model.add(LSTM(128, input_shape=(13, max_length)))\n",
    "# model.add(Dense(len(transcript_vocab), activation='softmax'))\n",
    "model.add(Dense(num_classes, activation='softmax'))\n",
    "\n",
    "# # Compile the model\n",
    "model.compile(loss='categorical_crossentropy', optimizer='adam', metrics=['accuracy'])\n",
    "\n",
    "# # Fit the model to the training data\n",
    "model.fit(X_train, y_train, epochs=20, batch_size=32, validation_data=(X_test, y_test))"
   ]
  },
  {
   "cell_type": "code",
   "execution_count": 4,
   "metadata": {},
   "outputs": [
    {
     "data": {
      "text/plain": [
       "469"
      ]
     },
     "execution_count": 4,
     "metadata": {},
     "output_type": "execute_result"
    }
   ],
   "source": [
    "max_length"
   ]
  }
 ],
 "metadata": {
  "kernelspec": {
   "display_name": "Python 3",
   "language": "python",
   "name": "python3"
  },
  "language_info": {
   "codemirror_mode": {
    "name": "ipython",
    "version": 3
   },
   "file_extension": ".py",
   "mimetype": "text/x-python",
   "name": "python",
   "nbconvert_exporter": "python",
   "pygments_lexer": "ipython3",
   "version": "3.10.5"
  },
  "orig_nbformat": 4,
  "vscode": {
   "interpreter": {
    "hash": "c5d01433c49bebc7c0f039aefb7a5f7006b5cc5372ab57f4229212c8564f15fd"
   }
  }
 },
 "nbformat": 4,
 "nbformat_minor": 2
}
