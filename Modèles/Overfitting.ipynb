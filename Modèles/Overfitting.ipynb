{
 "cells": [
  {
   "cell_type": "code",
   "execution_count": 2,
   "metadata": {},
   "outputs": [
    {
     "data": {
      "text/plain": [
       "{'alternative': [{'transcript': 'tree', 'confidence': 0.74965292},\n",
       "  {'transcript': '3'},\n",
       "  {'transcript': 'three'},\n",
       "  {'transcript': 'Tre'},\n",
       "  {'transcript': 'II'}],\n",
       " 'final': True}"
      ]
     },
     "execution_count": 2,
     "metadata": {},
     "output_type": "execute_result"
    }
   ],
   "source": [
    "from speechFileWAVToTextFunction import speechFileWAVToTextFunction \n",
    "\n",
    "#speech_recognition.UnknownValueError\n",
    "# WAVFilePath = \"./en_train_full_subset/target_directory/common_voice_en_21892403.wav\"\n",
    "\n",
    "#Il n'y a que yes dans transcript\n",
    "# WAVFilePath = \"./en_train_full_subset/target_directory/common_voice_en_21892412.wav\"\n",
    "\n",
    "\n",
    "WAVFilePath = \"./en_train_full_subset/target_directory/common_voice_en_21958221.wav\"\n",
    "\n",
    "\n",
    "result = speechFileWAVToTextFunction(WAVFilePath)\n",
    "result"
   ]
  },
  {
   "cell_type": "code",
   "execution_count": 10,
   "metadata": {},
   "outputs": [
    {
     "data": {
      "text/plain": [
       "{'alternative': [{'transcript': 'tree', 'confidence': 0.74965292},\n",
       "  {'transcript': '3'},\n",
       "  {'transcript': 'three'},\n",
       "  {'transcript': 'Tre'},\n",
       "  {'transcript': 'II'}],\n",
       " 'final': True}"
      ]
     },
     "execution_count": 10,
     "metadata": {},
     "output_type": "execute_result"
    }
   ],
   "source": [
    "# result\n",
    "# {'alternative': [{'transcript': 'tree', 'confidence': 0.74965292},\n",
    "#   {'transcript': '3'},\n",
    "#   {'transcript': 'three'},\n",
    "#   {'transcript': 'Tre'},\n",
    "#   {'transcript': 'II'}],\n",
    "#  'final': True}\n",
    "\n",
    "# result[\"alternative\"]\n",
    "# [{'transcript': 'tree', 'confidence': 0.74965292},\n",
    "#  {'transcript': '3'},\n",
    "#  {'transcript': 'three'},\n",
    "#  {'transcript': 'Tre'},\n",
    "#  {'transcript': 'II'}]\n",
    "\n",
    "# result[\"alternative\"][0]\n",
    "# {'transcript': 'tree', 'confidence': 0.74965292}\n",
    "\n",
    "# result[\"alternative\"][1]\n",
    "#{'transcript': '3'}\n",
    "\n",
    "# len(result)\n",
    "\n",
    "# if \"three\" or \"3\" in result "
   ]
  },
  {
   "cell_type": "code",
   "execution_count": 11,
   "metadata": {},
   "outputs": [
    {
     "data": {
      "text/plain": [
       "{'alternative': [{'transcript': 'yes', 'confidence': 0.92547905}],\n",
       " 'final': True}"
      ]
     },
     "execution_count": 11,
     "metadata": {},
     "output_type": "execute_result"
    }
   ],
   "source": [
    "WAVFilePath1Yes = \"./en_train_full_subset/target_directory/common_voice_en_21892412.wav\"\n",
    "result1Yes = speechFileWAVToTextFunction(WAVFilePath1Yes)\n",
    "result1Yes\n"
   ]
  },
  {
   "cell_type": "code",
   "execution_count": 19,
   "metadata": {},
   "outputs": [
    {
     "name": "stdout",
     "output_type": "stream",
     "text": [
      "YES, 3\n",
      "YES, three\n"
     ]
    }
   ],
   "source": [
    "#Conclusion: Fichier Json de taille 2 avec \"alternative\" et \"final\"\n",
    "#Dans alternative, on ta plusieurs transcript et pour le premier transcript on a le \"confidence\"\n",
    "\n",
    "\n",
    "for row in result[\"alternative\"]:\n",
    "    if row[\"transcript\"] == \"3\" or row[\"transcript\"] == \"three\":\n",
    "        #print(\"YES,\", row[\"transcript\"])\n",
    "\n",
    "        \n",
    "\n",
    "# result[\"alternative\"][0]\n",
    "#{'transcript': 'tree', 'confidence': 0.74965292}\n",
    "\n",
    "# result[\"alternative\"][0][\"transcript\"]\n",
    "# result[\"alternative\"][1][\"transcript\"] #'3'\n",
    "\n",
    "#Pour les 3, on peut le traiter à la fin\n",
    "# for row in result[\"alternative\"]:\n",
    "#     if row[\"transcript\"] == \"sentence\":\n",
    "        #print(\"YES,\", row[\"transcript\"])\n",
    "        \n"
   ]
  },
  {
   "cell_type": "code",
   "execution_count": 20,
   "metadata": {},
   "outputs": [],
   "source": [
    "#Plusieurs étapes:\n",
    "#1) On a la liste des données entrainements (fichiers tsv) et la liste des audio entrainements (format wav)\n",
    "#2) On construit le dataframe avec une colonne predicted_sentence \n",
    "# (nouvelle fonction qui remplit predicted_sentence avec sentence si sentence est présent dans la liste des transcript\n",
    "#  et sinon, on le remplit avec le mot avec la plus grande fréquence)\n",
    "# Mais petit soucis si on a \"b\", puis \"3\" en ordre de fréquence\n",
    "# Donc faudrait aussi prioriser dans la fonction précédente, les variantes de \"three\"\n",
    "# -->Traiter avec du regex dès cette étape là. Mettre sentence dans predicted_sentence si sentence ou ses variantes sont dans la liste des mots\n",
    "#3) On traite les variantes avec du regex (\"3\", \"333\", \"threethree\"...)\n",
    "#4) On ajoute une colonne correct_predicted (concordance entre sentence et predicted_sentence)\n",
    "#5) Visualisations et calcul accuracy\n",
    "\n",
    "\n",
    "#Mise à jour\n",
    "#Plusieurs étapes:\n",
    "#1) On a la liste des données entrainements (fichiers tsv) et la liste des audio entrainements (format wav)\n",
    "#2) On construit le dataframe avec une colonne predicted_sentence \n",
    "#Mettre sentence dans predicted_sentence si sentence ou ses variantes(regex) sont dans la liste des mots\n",
    "#3) On ajoute une colonne correct_predicted (concordance entre sentence et predicted_sentence)\n",
    "#4) Visualisations et calcul accuracy\n",
    "\n",
    "\n",
    "#Allons davantage dans le détail\n",
    "#Pour la fonction à l'étape 2:\n",
    "#On itère sur les lignes du fichiers tsv (Il faut donc le path des données audio en entrée)\n",
    "#Ou alors on part du Dataframe \n",
    "\n",
    "#Je pense qu'il vaut mieux avoir une fonction qui part des fichiers tsv et audio\n",
    "#Et une autre qui part du fichier csv (qui recrée le Dataframe)\n",
    "#On récupère\n",
    "\n"
   ]
  },
  {
   "cell_type": "code",
   "execution_count": null,
   "metadata": {},
   "outputs": [],
   "source": []
  }
 ],
 "metadata": {
  "kernelspec": {
   "display_name": "Python 3",
   "language": "python",
   "name": "python3"
  },
  "language_info": {
   "codemirror_mode": {
    "name": "ipython",
    "version": 3
   },
   "file_extension": ".py",
   "mimetype": "text/x-python",
   "name": "python",
   "nbconvert_exporter": "python",
   "pygments_lexer": "ipython3",
   "version": "3.10.5"
  },
  "orig_nbformat": 4,
  "vscode": {
   "interpreter": {
    "hash": "c5d01433c49bebc7c0f039aefb7a5f7006b5cc5372ab57f4229212c8564f15fd"
   }
  }
 },
 "nbformat": 4,
 "nbformat_minor": 2
}
