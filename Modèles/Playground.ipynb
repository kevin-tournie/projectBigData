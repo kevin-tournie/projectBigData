{
 "cells": [
  {
   "cell_type": "code",
   "execution_count": 2,
   "metadata": {},
   "outputs": [
    {
     "name": "stdout",
     "output_type": "stream",
     "text": [
      "Hello\n"
     ]
    },
    {
     "ename": "NameError",
     "evalue": "name 'filtered_test_df' is not defined",
     "output_type": "error",
     "traceback": [
      "\u001b[1;31m---------------------------------------------------------------------------\u001b[0m",
      "\u001b[1;31mNameError\u001b[0m                                 Traceback (most recent call last)",
      "Cell \u001b[1;32mIn [2], line 13\u001b[0m\n\u001b[0;32m     11\u001b[0m     \u001b[39mif\u001b[39;00m filename \u001b[39m!=\u001b[39m \u001b[39m\"\u001b[39m\u001b[39mtarget_directory\u001b[39m\u001b[39m\"\u001b[39m:\n\u001b[0;32m     12\u001b[0m         output \u001b[39m=\u001b[39m speechFileMP3ToText(filename)\n\u001b[1;32m---> 13\u001b[0m         filtered_test_df\u001b[39m.\u001b[39mloc[filtered_test_df[\u001b[39m'\u001b[39m\u001b[39mpath\u001b[39m\u001b[39m'\u001b[39m] \u001b[39m==\u001b[39m filename, \u001b[39m'\u001b[39m\u001b[39mpredicted_sentence\u001b[39m\u001b[39m'\u001b[39m] \u001b[39m=\u001b[39m output\n\u001b[0;32m     14\u001b[0m         filtered_test_df \u001b[39m=\u001b[39m filtered_test_df\u001b[39m.\u001b[39mreindex(filtered_test_df\u001b[39m.\u001b[39mloc[filtered_test_df[\u001b[39m'\u001b[39m\u001b[39mpath\u001b[39m\u001b[39m'\u001b[39m] \u001b[39m==\u001b[39m filename]\u001b[39m.\u001b[39mindex\u001b[39m.\u001b[39munion(filtered_test_df\u001b[39m.\u001b[39mindex))\n\u001b[0;32m     15\u001b[0m \u001b[39m# filtered_test_df\u001b[39;00m\n\u001b[0;32m     16\u001b[0m \n\u001b[0;32m     17\u001b[0m \n\u001b[1;32m   (...)\u001b[0m\n\u001b[0;32m     22\u001b[0m \u001b[39m#-->On va utiliser fuzzywuzzy (on a aussi besoin d'installer la python-Levenshtein)\u001b[39;00m\n\u001b[0;32m     23\u001b[0m \u001b[39m# filtered_test_df['correct_predicted'] = filtered_test_df.apply(lambda row: row['sentence'] == row['predicted_sentence'], axis=1)\u001b[39;00m\n",
      "\u001b[1;31mNameError\u001b[0m: name 'filtered_test_df' is not defined"
     ]
    }
   ],
   "source": [
    "import os\n",
    "import pandas as pd\n",
    "from pydub import AudioSegment\n",
    "import speech_recognition as sr\n",
    "from speechFileMP3ToText import speechFileMP3ToText\n",
    "from creating_test_files_subset import creating_test_files_subset\n",
    "\n",
    "path1 = \"C:/Users/Simon/OneDrive/Documents/FISE3/Semestre 9/Spe-Info2-Big Data/Big Data Project/en/clips/\"\n",
    "filtered_test_df = creating_test_files_subset(path1)\n",
    "\n",
    "for filename in os.listdir('./en_test_full_subset/'):\n",
    "    if filename != \"target_directory\":\n",
    "        output = speechFileMP3ToText(filename)\n",
    "        filtered_test_df.loc[filtered_test_df['path'] == filename, 'predicted_sentence'] = output\n",
    "        filtered_test_df = filtered_test_df.reindex(filtered_test_df.loc[filtered_test_df['path'] == filename].index.union(filtered_test_df.index))\n",
    "# filtered_test_df\n",
    "\n",
    "\n",
    "# filtered_test_df.size #99\n",
    "\n",
    "# une nouvelle colonne \"correct_predicted\" qui est un boolean et qui possède True si les champs \"path\" et \"predicted_sentence\" sont égales\n",
    "#Le problème c'est si on a dans correct_predicted \"3\" ou \"444\"\n",
    "#-->On va utiliser fuzzywuzzy (on a aussi besoin d'installer la python-Levenshtein)\n",
    "# filtered_test_df['correct_predicted'] = filtered_test_df.apply(lambda row: row['sentence'] == row['predicted_sentence'], axis=1)\n",
    "from fuzzywuzzy import fuzz\n",
    "#90 ça ne suffit pas, tester à la main pour voir?\n",
    "#Même avec 50, ça ne marche pas\n",
    "# filtered_test_df[\"correct_predicted\"] = filtered_test_df.apply(lambda row: fuzz.token_set_ratio(row['sentence'], row['predicted_sentence']) > 50, axis=1)\n",
    "\n",
    "\n",
    "#On va utiliser une autre approche\n",
    "#C'est bcp plus long, ça a pris ~1min\n",
    "#ça a résolu le problème du \"3\" mais pas du \"444\"\n",
    "\n",
    "def convert_number(n):\n",
    "    if n == \"1\":\n",
    "        return \"one\"\n",
    "    elif n == \"2\":\n",
    "        return \"two\"\n",
    "    elif n == \"3\":\n",
    "        return \"three\"\n",
    "    elif n == \"4\":\n",
    "        return \"four\"\n",
    "    else:\n",
    "        return n\n",
    "\n",
    "filtered_test_df['predicted_sentence'] = filtered_test_df['predicted_sentence'].apply(convert_number)\n",
    "filtered_test_df[\"correct_predicted\"] = filtered_test_df.apply(lambda row: row['sentence'] == row['predicted_sentence'], axis=1)\n",
    "\n",
    "filtered_test_df\n"
   ]
  }
 ],
 "metadata": {
  "kernelspec": {
   "display_name": "Python 3",
   "language": "python",
   "name": "python3"
  },
  "language_info": {
   "codemirror_mode": {
    "name": "ipython",
    "version": 3
   },
   "file_extension": ".py",
   "mimetype": "text/x-python",
   "name": "python",
   "nbconvert_exporter": "python",
   "pygments_lexer": "ipython3",
   "version": "3.10.5"
  },
  "orig_nbformat": 4,
  "vscode": {
   "interpreter": {
    "hash": "c5d01433c49bebc7c0f039aefb7a5f7006b5cc5372ab57f4229212c8564f15fd"
   }
  }
 },
 "nbformat": 4,
 "nbformat_minor": 2
}
