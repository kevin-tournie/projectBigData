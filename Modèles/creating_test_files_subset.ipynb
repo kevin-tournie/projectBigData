{
 "cells": [
  {
   "cell_type": "code",
   "execution_count": 6,
   "metadata": {},
   "outputs": [],
   "source": [
    "# #Creating en_test_full_subset (Yes/No 1-4)\n",
    "# import pandas as pd\n",
    "# import os\n",
    "# from shutil import copyfile\n",
    "\n",
    "\n",
    "# # Charger le fichier filtered_test.tsv en utilisant pandas\n",
    "# filtered_test_df = pd.read_csv('./tsv_files/filtered_test.tsv', sep='\\t')\n",
    "\n",
    "# # Définir le path1\n",
    "# path1 = \"C:/Users/Simon/OneDrive/Documents/FISE3/Semestre 9/Spe-Info2-Big Data/Big Data Project/en/clips/\"\n",
    "\n",
    "# # Définir le path3\n",
    "# path3 = './en_test_full_subset/'\n",
    "\n",
    "# # Vérifier si le path3 existe, sinon le créer\n",
    "# if not os.path.exists(path3):\n",
    "#     os.makedirs(path3)\n",
    "\n",
    "# # Pour chaque ligne du fichier filtered_test.tsv\n",
    "# for index, row in filtered_test_df.iterrows():\n",
    "#     # Récupérer le nom du fichier audio\n",
    "#     audio_file_name = row['path']\n",
    "#     # Construire le chemin complet du fichier audio dans path1\n",
    "#     source_path = os.path.join(path1, audio_file_name)\n",
    "#     # Construire le chemin complet où le fichier audio sera copié dans path3\n",
    "#     destination_path = os.path.join(path3, audio_file_name)\n",
    "#     # Vérifier si le fichier audio existe dans path1\n",
    "#     if os.path.exists(source_path):\n",
    "#         # Copier le fichier audio de path1 à path3\n",
    "#         copyfile(source_path, destination_path)\n",
    "#     else:\n",
    "#         print(f\"Le fichier {audio_file_name} n'existe pas dans {path1}\")\n",
    "\n",
    "# filtered_test_df.size\n",
    "# sentence_list = filtered_test_df['sentence'].unique().tolist()\n",
    "\n",
    "\n",
    "#----------------------------------------------------------------------\n",
    "#En utilisant la fonction\n",
    "path1 = \"C:/Users/Simon/OneDrive/Documents/FISE3/Semestre 9/Spe-Info2-Big Data/Big Data Project/en/clips/\"\n",
    "from creating_test_files_subset import creating_test_files_subset\n",
    "creating_test_files_subset(path1)\n"
   ]
  }
 ],
 "metadata": {
  "kernelspec": {
   "display_name": "Python 3",
   "language": "python",
   "name": "python3"
  },
  "language_info": {
   "codemirror_mode": {
    "name": "ipython",
    "version": 3
   },
   "file_extension": ".py",
   "mimetype": "text/x-python",
   "name": "python",
   "nbconvert_exporter": "python",
   "pygments_lexer": "ipython3",
   "version": "3.10.5"
  },
  "orig_nbformat": 4,
  "vscode": {
   "interpreter": {
    "hash": "c5d01433c49bebc7c0f039aefb7a5f7006b5cc5372ab57f4229212c8564f15fd"
   }
  }
 },
 "nbformat": 4,
 "nbformat_minor": 2
}
